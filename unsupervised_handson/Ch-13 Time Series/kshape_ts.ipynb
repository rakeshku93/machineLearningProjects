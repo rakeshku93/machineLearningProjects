{
 "cells": [
  {
   "cell_type": "code",
   "execution_count": 9,
   "metadata": {},
   "outputs": [],
   "source": [
    "# importing the necessary libraries\n",
    "'''Main'''\n",
    "import os\n",
    "import re\n",
    "import time\n",
    "import random\n",
    "import numpy as np\n",
    "import pandas as pd\n",
    "import pickle, gzip, datetime\n",
    "\n",
    "'''Data Viz'''\n",
    "import matplotlib.pyplot as plt\n",
    "import seaborn as sns\n",
    "color = sns.color_palette()\n",
    "\n",
    "'''Data Prep and Model Evaluation'''\n",
    "from sklearn import preprocessing\n",
    "from sklearn.model_selection import train_test_split\n",
    "from sklearn.model_selection import StratifiedKFold\n",
    "from sklearn.metrics import log_loss, accuracy_score\n",
    "from sklearn.metrics import precision_recall_curve, average_precision_score\n",
    "from sklearn.metrics import roc_curve, auc, roc_auc_score, mean_squared_error\n",
    "from keras.utils import to_categorical\n",
    "from sklearn.metrics import adjusted_rand_score\n",
    "\n",
    "'''Algos'''\n",
    "import hdbscan\n",
    "import tslearn\n",
    "from kshape.core import kshape, zscore\n",
    "# from tslearn.utils import to_time_series_dataset\n",
    "# from tslearn.clustering import KShape, TimeSeriesScalerMeanVariance\n",
    "# from tslearn.clustering import TimeSeriesKMeans\n"
   ]
  },
  {
   "cell_type": "code",
   "execution_count": null,
   "metadata": {},
   "outputs": [],
   "source": []
  },
  {
   "cell_type": "code",
   "execution_count": 17,
   "metadata": {},
   "outputs": [
    {
     "ename": "AttributeError",
     "evalue": "module 'numpy' has no attribute 'float'",
     "output_type": "error",
     "traceback": [
      "\u001b[1;31m---------------------------------------------------------------------------\u001b[0m",
      "\u001b[1;31mAttributeError\u001b[0m                            Traceback (most recent call last)",
      "\u001b[1;32mc:\\Users\\rkumarkuwar\\Desktop\\Rakesh\\machineLearningProjts\\machineLearningProjects\\unsupervised_handson\\Ch-13 Time Series\\kshape_ts.ipynb Cell 3\u001b[0m in \u001b[0;36m<cell line: 1>\u001b[1;34m()\u001b[0m\n\u001b[1;32m----> <a href='vscode-notebook-cell:/c%3A/Users/rkumarkuwar/Desktop/Rakesh/machineLearningProjts/machineLearningProjects/unsupervised_handson/Ch-13%20Time%20Series/kshape_ts.ipynb#W5sZmlsZQ%3D%3D?line=0'>1</a>\u001b[0m \u001b[39mfrom\u001b[39;00m \u001b[39mtslearn\u001b[39;00m\u001b[39m.\u001b[39;00m\u001b[39mutils\u001b[39;00m \u001b[39mimport\u001b[39;00m to_time_series\n",
      "File \u001b[1;32mc:\\Users\\rkumarkuwar\\Anaconda3\\envs\\py38\\lib\\site-packages\\tslearn\\utils\\__init__.py:5\u001b[0m, in \u001b[0;36m<module>\u001b[1;34m\u001b[0m\n\u001b[0;32m      1\u001b[0m \u001b[39m\"\"\"\u001b[39;00m\n\u001b[0;32m      2\u001b[0m \u001b[39mThe :mod:`tslearn.utils` module includes various utilities.\u001b[39;00m\n\u001b[0;32m      3\u001b[0m \u001b[39m\"\"\"\u001b[39;00m\n\u001b[1;32m----> 5\u001b[0m \u001b[39mfrom\u001b[39;00m \u001b[39m.\u001b[39;00m\u001b[39mutils\u001b[39;00m \u001b[39mimport\u001b[39;00m (\n\u001b[0;32m      6\u001b[0m     check_dims,\n\u001b[0;32m      7\u001b[0m     check_equal_size,\n\u001b[0;32m      8\u001b[0m     to_time_series,\n\u001b[0;32m      9\u001b[0m     to_time_series_dataset,\n\u001b[0;32m     10\u001b[0m     time_series_to_str,\n\u001b[0;32m     11\u001b[0m     timeseries_to_str,\n\u001b[0;32m     12\u001b[0m     str_to_time_series,\n\u001b[0;32m     13\u001b[0m     str_to_timeseries,\n\u001b[0;32m     14\u001b[0m     save_time_series_txt,\n\u001b[0;32m     15\u001b[0m     save_timeseries_txt,\n\u001b[0;32m     16\u001b[0m     load_time_series_txt,\n\u001b[0;32m     17\u001b[0m     load_timeseries_txt,\n\u001b[0;32m     18\u001b[0m     ts_size,\n\u001b[0;32m     19\u001b[0m     ts_zeros,\n\u001b[0;32m     20\u001b[0m     check_dataset,\n\u001b[0;32m     21\u001b[0m     LabelCategorizer,\n\u001b[0;32m     22\u001b[0m     _load_txt_uea,\n\u001b[0;32m     23\u001b[0m     _load_arff_uea\n\u001b[0;32m     24\u001b[0m )\n\u001b[0;32m     26\u001b[0m \u001b[39mfrom\u001b[39;00m \u001b[39m.\u001b[39;00m\u001b[39mcast\u001b[39;00m \u001b[39mimport\u001b[39;00m (\n\u001b[0;32m     27\u001b[0m     to_sklearn_dataset,\n\u001b[0;32m     28\u001b[0m     from_cesium_dataset, to_cesium_dataset,\n\u001b[1;32m   (...)\u001b[0m\n\u001b[0;32m     34\u001b[0m     from_tsfresh_dataset, to_tsfresh_dataset\n\u001b[0;32m     35\u001b[0m )\n\u001b[0;32m     39\u001b[0m __all__ \u001b[39m=\u001b[39m [\n\u001b[0;32m     40\u001b[0m     \u001b[39m\"\u001b[39m\u001b[39mcheck_dims\u001b[39m\u001b[39m\"\u001b[39m, \u001b[39m\"\u001b[39m\u001b[39mcheck_equal_size\u001b[39m\u001b[39m\"\u001b[39m,\n\u001b[0;32m     41\u001b[0m     \u001b[39m\"\u001b[39m\u001b[39mto_time_series\u001b[39m\u001b[39m\"\u001b[39m, \u001b[39m\"\u001b[39m\u001b[39mto_time_series_dataset\u001b[39m\u001b[39m\"\u001b[39m,\n\u001b[1;32m   (...)\u001b[0m\n\u001b[0;32m     56\u001b[0m     \u001b[39m\"\u001b[39m\u001b[39mfrom_tsfresh_dataset\u001b[39m\u001b[39m\"\u001b[39m, \u001b[39m\"\u001b[39m\u001b[39mto_tsfresh_dataset\u001b[39m\u001b[39m\"\u001b[39m\n\u001b[0;32m     57\u001b[0m ]\n",
      "File \u001b[1;32mc:\\Users\\rkumarkuwar\\Anaconda3\\envs\\py38\\lib\\site-packages\\tslearn\\utils\\utils.py:156\u001b[0m, in \u001b[0;36m<module>\u001b[1;34m\u001b[0m\n\u001b[0;32m    152\u001b[0m         ts_out \u001b[39m=\u001b[39m ts_out[:ts_size(ts_out)]\n\u001b[0;32m    153\u001b[0m     \u001b[39mreturn\u001b[39;00m ts_out\n\u001b[1;32m--> 156\u001b[0m \u001b[39mdef\u001b[39;00m \u001b[39mto_time_series_dataset\u001b[39m(dataset, dtype\u001b[39m=\u001b[39mnumpy\u001b[39m.\u001b[39;49mfloat):\n\u001b[0;32m    157\u001b[0m     \u001b[39m\"\"\"Transforms a time series dataset so that it fits the format used in\u001b[39;00m\n\u001b[0;32m    158\u001b[0m \u001b[39m    ``tslearn`` models.\u001b[39;00m\n\u001b[0;32m    159\u001b[0m \n\u001b[1;32m   (...)\u001b[0m\n\u001b[0;32m    194\u001b[0m \u001b[39m    to_time_series : Transforms a single time series\u001b[39;00m\n\u001b[0;32m    195\u001b[0m \u001b[39m    \"\"\"\u001b[39;00m\n\u001b[0;32m    196\u001b[0m     \u001b[39mtry\u001b[39;00m:\n",
      "File \u001b[1;32mc:\\Users\\rkumarkuwar\\Anaconda3\\envs\\py38\\lib\\site-packages\\numpy\\__init__.py:284\u001b[0m, in \u001b[0;36m__getattr__\u001b[1;34m(attr)\u001b[0m\n\u001b[0;32m    281\u001b[0m     \u001b[39mfrom\u001b[39;00m \u001b[39m.\u001b[39;00m\u001b[39mtesting\u001b[39;00m \u001b[39mimport\u001b[39;00m Tester\n\u001b[0;32m    282\u001b[0m     \u001b[39mreturn\u001b[39;00m Tester\n\u001b[1;32m--> 284\u001b[0m \u001b[39mraise\u001b[39;00m \u001b[39mAttributeError\u001b[39;00m(\u001b[39m\"\u001b[39m\u001b[39mmodule \u001b[39m\u001b[39m{!r}\u001b[39;00m\u001b[39m has no attribute \u001b[39m\u001b[39m\"\u001b[39m\n\u001b[0;32m    285\u001b[0m                      \u001b[39m\"\u001b[39m\u001b[39m{!r}\u001b[39;00m\u001b[39m\"\u001b[39m\u001b[39m.\u001b[39mformat(\u001b[39m__name__\u001b[39m, attr))\n",
      "\u001b[1;31mAttributeError\u001b[0m: module 'numpy' has no attribute 'float'"
     ]
    }
   ],
   "source": [
    "from tslearn.utils import to_time_series"
   ]
  },
  {
   "cell_type": "code",
   "execution_count": null,
   "metadata": {},
   "outputs": [],
   "source": []
  }
 ],
 "metadata": {
  "kernelspec": {
   "display_name": "py38",
   "language": "python",
   "name": "python3"
  },
  "language_info": {
   "codemirror_mode": {
    "name": "ipython",
    "version": 3
   },
   "file_extension": ".py",
   "mimetype": "text/x-python",
   "name": "python",
   "nbconvert_exporter": "python",
   "pygments_lexer": "ipython3",
   "version": "3.8.13"
  },
  "orig_nbformat": 4,
  "vscode": {
   "interpreter": {
    "hash": "2d630e0cc0c84cebedeee9ce2cc9e0c67fed820c0a3ba66cc141a6b3ba050296"
   }
  }
 },
 "nbformat": 4,
 "nbformat_minor": 2
}
