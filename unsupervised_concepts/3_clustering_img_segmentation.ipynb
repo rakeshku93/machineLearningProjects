{
 "cells": [
  {
   "cell_type": "markdown",
   "metadata": {},
   "source": [
    "## Using Clustering for Preprocessing\n",
    "- Clustering can be an efficient approach to dimensionality reduction, in particular as a\n",
    "preprocessing step before a supervised learning algorithm.\n",
    "- let’s tackle the digits dataset, which is a simple\n",
    "MNIST-like dataset containing 1,797 grayscale 8 × 8 images representing the digits\n",
    "0 to 9.\n",
    "- `The dataset is 64 dimensional data, we reduce its dimensionality and test its score`"
   ]
  },
  {
   "cell_type": "markdown",
   "metadata": {},
   "source": [
    "## Importing the packages"
   ]
  },
  {
   "cell_type": "code",
   "execution_count": 10,
   "metadata": {},
   "outputs": [],
   "source": [
    "import numpy as np\n",
    "from sklearn import datasets\n",
    "from sklearn import model_selection\n",
    "from sklearn import linear_model"
   ]
  },
  {
   "cell_type": "markdown",
   "metadata": {},
   "source": [
    "## Loading the dataset:"
   ]
  },
  {
   "cell_type": "code",
   "execution_count": 2,
   "metadata": {},
   "outputs": [
    {
     "name": "stdout",
     "output_type": "stream",
     "text": [
      "(1797, 64) (1797,)\n"
     ]
    }
   ],
   "source": [
    "X_digits, y_digits = datasets.load_digits(return_X_y=True)\n",
    "print(f\"{X_digits.shape} {y_digits.shape}\")"
   ]
  },
  {
   "cell_type": "markdown",
   "metadata": {},
   "source": [
    "## Train and Test Split"
   ]
  },
  {
   "cell_type": "code",
   "execution_count": 3,
   "metadata": {},
   "outputs": [
    {
     "name": "stdout",
     "output_type": "stream",
     "text": [
      "TRAINING INFO: (1347, 64) (1347,)\n",
      "TEST INFO: (450, 64) (450,)\n"
     ]
    }
   ],
   "source": [
    "X_train, X_test, y_train, y_test = model_selection.train_test_split(X_digits, y_digits,\n",
    "                                                                    random_state=0,\n",
    "                                                                    test_size=0.25,\n",
    "                                                                    shuffle=True,\n",
    "                                                                    stratify=y_digits)\n",
    "\n",
    "print(f\"TRAINING INFO: {X_train.shape} {y_train.shape}\")\n",
    "print(f\"TEST INFO: {X_test.shape} {y_test.shape}\")"
   ]
  },
  {
   "cell_type": "markdown",
   "metadata": {},
   "source": [
    "## Model training and prediction"
   ]
  },
  {
   "cell_type": "code",
   "execution_count": 4,
   "metadata": {},
   "outputs": [
    {
     "data": {
      "text/html": [
       "<style>#sk-container-id-1 {color: black;background-color: white;}#sk-container-id-1 pre{padding: 0;}#sk-container-id-1 div.sk-toggleable {background-color: white;}#sk-container-id-1 label.sk-toggleable__label {cursor: pointer;display: block;width: 100%;margin-bottom: 0;padding: 0.3em;box-sizing: border-box;text-align: center;}#sk-container-id-1 label.sk-toggleable__label-arrow:before {content: \"▸\";float: left;margin-right: 0.25em;color: #696969;}#sk-container-id-1 label.sk-toggleable__label-arrow:hover:before {color: black;}#sk-container-id-1 div.sk-estimator:hover label.sk-toggleable__label-arrow:before {color: black;}#sk-container-id-1 div.sk-toggleable__content {max-height: 0;max-width: 0;overflow: hidden;text-align: left;background-color: #f0f8ff;}#sk-container-id-1 div.sk-toggleable__content pre {margin: 0.2em;color: black;border-radius: 0.25em;background-color: #f0f8ff;}#sk-container-id-1 input.sk-toggleable__control:checked~div.sk-toggleable__content {max-height: 200px;max-width: 100%;overflow: auto;}#sk-container-id-1 input.sk-toggleable__control:checked~label.sk-toggleable__label-arrow:before {content: \"▾\";}#sk-container-id-1 div.sk-estimator input.sk-toggleable__control:checked~label.sk-toggleable__label {background-color: #d4ebff;}#sk-container-id-1 div.sk-label input.sk-toggleable__control:checked~label.sk-toggleable__label {background-color: #d4ebff;}#sk-container-id-1 input.sk-hidden--visually {border: 0;clip: rect(1px 1px 1px 1px);clip: rect(1px, 1px, 1px, 1px);height: 1px;margin: -1px;overflow: hidden;padding: 0;position: absolute;width: 1px;}#sk-container-id-1 div.sk-estimator {font-family: monospace;background-color: #f0f8ff;border: 1px dotted black;border-radius: 0.25em;box-sizing: border-box;margin-bottom: 0.5em;}#sk-container-id-1 div.sk-estimator:hover {background-color: #d4ebff;}#sk-container-id-1 div.sk-parallel-item::after {content: \"\";width: 100%;border-bottom: 1px solid gray;flex-grow: 1;}#sk-container-id-1 div.sk-label:hover label.sk-toggleable__label {background-color: #d4ebff;}#sk-container-id-1 div.sk-serial::before {content: \"\";position: absolute;border-left: 1px solid gray;box-sizing: border-box;top: 0;bottom: 0;left: 50%;z-index: 0;}#sk-container-id-1 div.sk-serial {display: flex;flex-direction: column;align-items: center;background-color: white;padding-right: 0.2em;padding-left: 0.2em;position: relative;}#sk-container-id-1 div.sk-item {position: relative;z-index: 1;}#sk-container-id-1 div.sk-parallel {display: flex;align-items: stretch;justify-content: center;background-color: white;position: relative;}#sk-container-id-1 div.sk-item::before, #sk-container-id-1 div.sk-parallel-item::before {content: \"\";position: absolute;border-left: 1px solid gray;box-sizing: border-box;top: 0;bottom: 0;left: 50%;z-index: -1;}#sk-container-id-1 div.sk-parallel-item {display: flex;flex-direction: column;z-index: 1;position: relative;background-color: white;}#sk-container-id-1 div.sk-parallel-item:first-child::after {align-self: flex-end;width: 50%;}#sk-container-id-1 div.sk-parallel-item:last-child::after {align-self: flex-start;width: 50%;}#sk-container-id-1 div.sk-parallel-item:only-child::after {width: 0;}#sk-container-id-1 div.sk-dashed-wrapped {border: 1px dashed gray;margin: 0 0.4em 0.5em 0.4em;box-sizing: border-box;padding-bottom: 0.4em;background-color: white;}#sk-container-id-1 div.sk-label label {font-family: monospace;font-weight: bold;display: inline-block;line-height: 1.2em;}#sk-container-id-1 div.sk-label-container {text-align: center;}#sk-container-id-1 div.sk-container {/* jupyter's `normalize.less` sets `[hidden] { display: none; }` but bootstrap.min.css set `[hidden] { display: none !important; }` so we also need the `!important` here to be able to override the default hidden behavior on the sphinx rendered scikit-learn.org. See: https://github.com/scikit-learn/scikit-learn/issues/21755 */display: inline-block !important;position: relative;}#sk-container-id-1 div.sk-text-repr-fallback {display: none;}</style><div id=\"sk-container-id-1\" class=\"sk-top-container\"><div class=\"sk-text-repr-fallback\"><pre>LogisticRegression(n_jobs=-1)</pre><b>In a Jupyter environment, please rerun this cell to show the HTML representation or trust the notebook. <br />On GitHub, the HTML representation is unable to render, please try loading this page with nbviewer.org.</b></div><div class=\"sk-container\" hidden><div class=\"sk-item\"><div class=\"sk-estimator sk-toggleable\"><input class=\"sk-toggleable__control sk-hidden--visually\" id=\"sk-estimator-id-1\" type=\"checkbox\" checked><label for=\"sk-estimator-id-1\" class=\"sk-toggleable__label sk-toggleable__label-arrow\">LogisticRegression</label><div class=\"sk-toggleable__content\"><pre>LogisticRegression(n_jobs=-1)</pre></div></div></div></div></div>"
      ],
      "text/plain": [
       "LogisticRegression(n_jobs=-1)"
      ]
     },
     "execution_count": 4,
     "metadata": {},
     "output_type": "execute_result"
    }
   ],
   "source": [
    "log_res = linear_model.LogisticRegression(n_jobs=-1, max_iter=100)\n",
    "log_res.fit(X_train, y_train)"
   ]
  },
  {
   "cell_type": "code",
   "execution_count": 5,
   "metadata": {},
   "outputs": [
    {
     "name": "stdout",
     "output_type": "stream",
     "text": [
      "SCORE: 0.9578\n"
     ]
    }
   ],
   "source": [
    "score = log_res.score(X_test, y_test)\n",
    "print(f\"SCORE: {score:.4f}\")"
   ]
  },
  {
   "cell_type": "markdown",
   "metadata": {},
   "source": [
    "## Model Improvement\n",
    "### 1. Dimensionality reduction from 64-dim to 30-dim using KMeans \n",
    "- Let's arbitary select n_clusters=30"
   ]
  },
  {
   "cell_type": "code",
   "execution_count": 6,
   "metadata": {},
   "outputs": [
    {
     "data": {
      "text/html": [
       "<style>#sk-container-id-2 {color: black;background-color: white;}#sk-container-id-2 pre{padding: 0;}#sk-container-id-2 div.sk-toggleable {background-color: white;}#sk-container-id-2 label.sk-toggleable__label {cursor: pointer;display: block;width: 100%;margin-bottom: 0;padding: 0.3em;box-sizing: border-box;text-align: center;}#sk-container-id-2 label.sk-toggleable__label-arrow:before {content: \"▸\";float: left;margin-right: 0.25em;color: #696969;}#sk-container-id-2 label.sk-toggleable__label-arrow:hover:before {color: black;}#sk-container-id-2 div.sk-estimator:hover label.sk-toggleable__label-arrow:before {color: black;}#sk-container-id-2 div.sk-toggleable__content {max-height: 0;max-width: 0;overflow: hidden;text-align: left;background-color: #f0f8ff;}#sk-container-id-2 div.sk-toggleable__content pre {margin: 0.2em;color: black;border-radius: 0.25em;background-color: #f0f8ff;}#sk-container-id-2 input.sk-toggleable__control:checked~div.sk-toggleable__content {max-height: 200px;max-width: 100%;overflow: auto;}#sk-container-id-2 input.sk-toggleable__control:checked~label.sk-toggleable__label-arrow:before {content: \"▾\";}#sk-container-id-2 div.sk-estimator input.sk-toggleable__control:checked~label.sk-toggleable__label {background-color: #d4ebff;}#sk-container-id-2 div.sk-label input.sk-toggleable__control:checked~label.sk-toggleable__label {background-color: #d4ebff;}#sk-container-id-2 input.sk-hidden--visually {border: 0;clip: rect(1px 1px 1px 1px);clip: rect(1px, 1px, 1px, 1px);height: 1px;margin: -1px;overflow: hidden;padding: 0;position: absolute;width: 1px;}#sk-container-id-2 div.sk-estimator {font-family: monospace;background-color: #f0f8ff;border: 1px dotted black;border-radius: 0.25em;box-sizing: border-box;margin-bottom: 0.5em;}#sk-container-id-2 div.sk-estimator:hover {background-color: #d4ebff;}#sk-container-id-2 div.sk-parallel-item::after {content: \"\";width: 100%;border-bottom: 1px solid gray;flex-grow: 1;}#sk-container-id-2 div.sk-label:hover label.sk-toggleable__label {background-color: #d4ebff;}#sk-container-id-2 div.sk-serial::before {content: \"\";position: absolute;border-left: 1px solid gray;box-sizing: border-box;top: 0;bottom: 0;left: 50%;z-index: 0;}#sk-container-id-2 div.sk-serial {display: flex;flex-direction: column;align-items: center;background-color: white;padding-right: 0.2em;padding-left: 0.2em;position: relative;}#sk-container-id-2 div.sk-item {position: relative;z-index: 1;}#sk-container-id-2 div.sk-parallel {display: flex;align-items: stretch;justify-content: center;background-color: white;position: relative;}#sk-container-id-2 div.sk-item::before, #sk-container-id-2 div.sk-parallel-item::before {content: \"\";position: absolute;border-left: 1px solid gray;box-sizing: border-box;top: 0;bottom: 0;left: 50%;z-index: -1;}#sk-container-id-2 div.sk-parallel-item {display: flex;flex-direction: column;z-index: 1;position: relative;background-color: white;}#sk-container-id-2 div.sk-parallel-item:first-child::after {align-self: flex-end;width: 50%;}#sk-container-id-2 div.sk-parallel-item:last-child::after {align-self: flex-start;width: 50%;}#sk-container-id-2 div.sk-parallel-item:only-child::after {width: 0;}#sk-container-id-2 div.sk-dashed-wrapped {border: 1px dashed gray;margin: 0 0.4em 0.5em 0.4em;box-sizing: border-box;padding-bottom: 0.4em;background-color: white;}#sk-container-id-2 div.sk-label label {font-family: monospace;font-weight: bold;display: inline-block;line-height: 1.2em;}#sk-container-id-2 div.sk-label-container {text-align: center;}#sk-container-id-2 div.sk-container {/* jupyter's `normalize.less` sets `[hidden] { display: none; }` but bootstrap.min.css set `[hidden] { display: none !important; }` so we also need the `!important` here to be able to override the default hidden behavior on the sphinx rendered scikit-learn.org. See: https://github.com/scikit-learn/scikit-learn/issues/21755 */display: inline-block !important;position: relative;}#sk-container-id-2 div.sk-text-repr-fallback {display: none;}</style><div id=\"sk-container-id-2\" class=\"sk-top-container\"><div class=\"sk-text-repr-fallback\"><pre>Pipeline(steps=[(&#x27;kmeans&#x27;, KMeans(n_clusters=30)),\n",
       "                (&#x27;log_reg&#x27;,\n",
       "                 LogisticRegression(max_iter=200, n_jobs=-1, random_state=0))])</pre><b>In a Jupyter environment, please rerun this cell to show the HTML representation or trust the notebook. <br />On GitHub, the HTML representation is unable to render, please try loading this page with nbviewer.org.</b></div><div class=\"sk-container\" hidden><div class=\"sk-item sk-dashed-wrapped\"><div class=\"sk-label-container\"><div class=\"sk-label sk-toggleable\"><input class=\"sk-toggleable__control sk-hidden--visually\" id=\"sk-estimator-id-2\" type=\"checkbox\" ><label for=\"sk-estimator-id-2\" class=\"sk-toggleable__label sk-toggleable__label-arrow\">Pipeline</label><div class=\"sk-toggleable__content\"><pre>Pipeline(steps=[(&#x27;kmeans&#x27;, KMeans(n_clusters=30)),\n",
       "                (&#x27;log_reg&#x27;,\n",
       "                 LogisticRegression(max_iter=200, n_jobs=-1, random_state=0))])</pre></div></div></div><div class=\"sk-serial\"><div class=\"sk-item\"><div class=\"sk-estimator sk-toggleable\"><input class=\"sk-toggleable__control sk-hidden--visually\" id=\"sk-estimator-id-3\" type=\"checkbox\" ><label for=\"sk-estimator-id-3\" class=\"sk-toggleable__label sk-toggleable__label-arrow\">KMeans</label><div class=\"sk-toggleable__content\"><pre>KMeans(n_clusters=30)</pre></div></div></div><div class=\"sk-item\"><div class=\"sk-estimator sk-toggleable\"><input class=\"sk-toggleable__control sk-hidden--visually\" id=\"sk-estimator-id-4\" type=\"checkbox\" ><label for=\"sk-estimator-id-4\" class=\"sk-toggleable__label sk-toggleable__label-arrow\">LogisticRegression</label><div class=\"sk-toggleable__content\"><pre>LogisticRegression(max_iter=200, n_jobs=-1, random_state=0)</pre></div></div></div></div></div></div></div>"
      ],
      "text/plain": [
       "Pipeline(steps=[('kmeans', KMeans(n_clusters=30)),\n",
       "                ('log_reg',\n",
       "                 LogisticRegression(max_iter=200, n_jobs=-1, random_state=0))])"
      ]
     },
     "execution_count": 6,
     "metadata": {},
     "output_type": "execute_result"
    }
   ],
   "source": [
    "from sklearn.pipeline import Pipeline\n",
    "from sklearn.cluster import KMeans \n",
    "\n",
    "pipeline = Pipeline([\n",
    "            (\"kmeans\", KMeans(n_clusters=30)),\n",
    "            (\"log_reg\", linear_model.LogisticRegression(n_jobs=-1, max_iter=200, random_state=0))\n",
    "          ])\n",
    "\n",
    "pipeline.fit(X_train, y_train)"
   ]
  },
  {
   "cell_type": "code",
   "execution_count": 8,
   "metadata": {},
   "outputs": [
    {
     "name": "stdout",
     "output_type": "stream",
     "text": [
      "SCORE: 0.9689\n"
     ]
    }
   ],
   "source": [
    "score = pipeline.score(X_test, y_test)\n",
    "print(f\"SCORE: {score:.4f}\")"
   ]
  },
  {
   "cell_type": "markdown",
   "metadata": {},
   "source": [
    "### 2. find the best n_cluster using GridSerachCV "
   ]
  },
  {
   "cell_type": "code",
   "execution_count": 103,
   "metadata": {},
   "outputs": [
    {
     "name": "stdout",
     "output_type": "stream",
     "text": [
      "Fitting 3 folds for each of 118 candidates, totalling 354 fits\n",
      "[CV] END ...............................kmeans__n_clusters=2; total time=   0.2s\n",
      "[CV] END ...............................kmeans__n_clusters=2; total time=   0.1s\n",
      "[CV] END ...............................kmeans__n_clusters=2; total time=   0.1s\n",
      "[CV] END ...............................kmeans__n_clusters=3; total time=   0.2s\n",
      "[CV] END ...............................kmeans__n_clusters=3; total time=   0.1s\n",
      "[CV] END ...............................kmeans__n_clusters=3; total time=   0.1s\n",
      "[CV] END ...............................kmeans__n_clusters=4; total time=   0.2s\n",
      "[CV] END ...............................kmeans__n_clusters=4; total time=   0.2s\n",
      "[CV] END ...............................kmeans__n_clusters=4; total time=   0.1s\n",
      "[CV] END ...............................kmeans__n_clusters=5; total time=   0.2s\n",
      "[CV] END ...............................kmeans__n_clusters=5; total time=   0.2s\n",
      "[CV] END ...............................kmeans__n_clusters=5; total time=   0.2s\n",
      "[CV] END ...............................kmeans__n_clusters=6; total time=   0.2s\n",
      "[CV] END ...............................kmeans__n_clusters=6; total time=   0.2s\n",
      "[CV] END ...............................kmeans__n_clusters=6; total time=   0.2s\n",
      "[CV] END ...............................kmeans__n_clusters=7; total time=   0.2s\n",
      "[CV] END ...............................kmeans__n_clusters=7; total time=   0.2s\n",
      "[CV] END ...............................kmeans__n_clusters=7; total time=   0.2s\n",
      "[CV] END ...............................kmeans__n_clusters=8; total time=   0.2s\n",
      "[CV] END ...............................kmeans__n_clusters=8; total time=   0.2s\n",
      "[CV] END ...............................kmeans__n_clusters=8; total time=   0.2s\n",
      "[CV] END ...............................kmeans__n_clusters=9; total time=   0.2s\n",
      "[CV] END ...............................kmeans__n_clusters=9; total time=   0.2s\n",
      "[CV] END ...............................kmeans__n_clusters=9; total time=   0.2s\n",
      "[CV] END ..............................kmeans__n_clusters=10; total time=   0.2s\n",
      "[CV] END ..............................kmeans__n_clusters=10; total time=   0.2s\n",
      "[CV] END ..............................kmeans__n_clusters=10; total time=   0.2s\n",
      "[CV] END ..............................kmeans__n_clusters=11; total time=   0.2s\n",
      "[CV] END ..............................kmeans__n_clusters=11; total time=   0.2s\n",
      "[CV] END ..............................kmeans__n_clusters=11; total time=   0.2s\n",
      "[CV] END ..............................kmeans__n_clusters=12; total time=   0.2s\n",
      "[CV] END ..............................kmeans__n_clusters=12; total time=   0.2s\n",
      "[CV] END ..............................kmeans__n_clusters=12; total time=   0.2s\n",
      "[CV] END ..............................kmeans__n_clusters=13; total time=   0.2s\n",
      "[CV] END ..............................kmeans__n_clusters=13; total time=   0.2s\n",
      "[CV] END ..............................kmeans__n_clusters=13; total time=   0.2s\n",
      "[CV] END ..............................kmeans__n_clusters=14; total time=   0.2s\n",
      "[CV] END ..............................kmeans__n_clusters=14; total time=   0.2s\n",
      "[CV] END ..............................kmeans__n_clusters=14; total time=   0.2s\n",
      "[CV] END ..............................kmeans__n_clusters=15; total time=   0.3s\n",
      "[CV] END ..............................kmeans__n_clusters=15; total time=   0.2s\n",
      "[CV] END ..............................kmeans__n_clusters=15; total time=   0.2s\n",
      "[CV] END ..............................kmeans__n_clusters=16; total time=   0.2s\n",
      "[CV] END ..............................kmeans__n_clusters=16; total time=   0.2s\n",
      "[CV] END ..............................kmeans__n_clusters=16; total time=   0.2s\n",
      "[CV] END ..............................kmeans__n_clusters=17; total time=   0.2s\n",
      "[CV] END ..............................kmeans__n_clusters=17; total time=   0.3s\n",
      "[CV] END ..............................kmeans__n_clusters=17; total time=   0.2s\n",
      "[CV] END ..............................kmeans__n_clusters=18; total time=   0.2s\n",
      "[CV] END ..............................kmeans__n_clusters=18; total time=   0.2s\n",
      "[CV] END ..............................kmeans__n_clusters=18; total time=   0.3s\n",
      "[CV] END ..............................kmeans__n_clusters=19; total time=   0.2s\n",
      "[CV] END ..............................kmeans__n_clusters=19; total time=   0.2s\n",
      "[CV] END ..............................kmeans__n_clusters=19; total time=   0.3s\n",
      "[CV] END ..............................kmeans__n_clusters=20; total time=   0.2s\n",
      "[CV] END ..............................kmeans__n_clusters=20; total time=   0.3s\n",
      "[CV] END ..............................kmeans__n_clusters=20; total time=   0.3s\n",
      "[CV] END ..............................kmeans__n_clusters=21; total time=   0.3s\n",
      "[CV] END ..............................kmeans__n_clusters=21; total time=   0.3s\n",
      "[CV] END ..............................kmeans__n_clusters=21; total time=   0.3s\n",
      "[CV] END ..............................kmeans__n_clusters=22; total time=   0.3s\n",
      "[CV] END ..............................kmeans__n_clusters=22; total time=   0.3s\n",
      "[CV] END ..............................kmeans__n_clusters=22; total time=   0.3s\n",
      "[CV] END ..............................kmeans__n_clusters=23; total time=   0.3s\n",
      "[CV] END ..............................kmeans__n_clusters=23; total time=   0.3s\n",
      "[CV] END ..............................kmeans__n_clusters=23; total time=   0.3s\n",
      "[CV] END ..............................kmeans__n_clusters=24; total time=   0.5s\n",
      "[CV] END ..............................kmeans__n_clusters=24; total time=   0.4s\n",
      "[CV] END ..............................kmeans__n_clusters=24; total time=   0.4s\n",
      "[CV] END ..............................kmeans__n_clusters=25; total time=   0.3s\n",
      "[CV] END ..............................kmeans__n_clusters=25; total time=   0.3s\n",
      "[CV] END ..............................kmeans__n_clusters=25; total time=   0.3s\n",
      "[CV] END ..............................kmeans__n_clusters=26; total time=   0.3s\n",
      "[CV] END ..............................kmeans__n_clusters=26; total time=   0.3s\n",
      "[CV] END ..............................kmeans__n_clusters=26; total time=   0.3s\n",
      "[CV] END ..............................kmeans__n_clusters=27; total time=   0.3s\n",
      "[CV] END ..............................kmeans__n_clusters=27; total time=   0.3s\n",
      "[CV] END ..............................kmeans__n_clusters=27; total time=   0.3s\n",
      "[CV] END ..............................kmeans__n_clusters=28; total time=   0.3s\n",
      "[CV] END ..............................kmeans__n_clusters=28; total time=   0.3s\n",
      "[CV] END ..............................kmeans__n_clusters=28; total time=   0.3s\n",
      "[CV] END ..............................kmeans__n_clusters=29; total time=   0.4s\n",
      "[CV] END ..............................kmeans__n_clusters=29; total time=   0.3s\n",
      "[CV] END ..............................kmeans__n_clusters=29; total time=   0.5s\n",
      "[CV] END ..............................kmeans__n_clusters=30; total time=   0.3s\n",
      "[CV] END ..............................kmeans__n_clusters=30; total time=   0.4s\n",
      "[CV] END ..............................kmeans__n_clusters=30; total time=   0.3s\n",
      "[CV] END ..............................kmeans__n_clusters=31; total time=   0.4s\n",
      "[CV] END ..............................kmeans__n_clusters=31; total time=   0.3s\n",
      "[CV] END ..............................kmeans__n_clusters=31; total time=   0.4s\n",
      "[CV] END ..............................kmeans__n_clusters=32; total time=   0.4s\n",
      "[CV] END ..............................kmeans__n_clusters=32; total time=   0.4s\n",
      "[CV] END ..............................kmeans__n_clusters=32; total time=   0.3s\n",
      "[CV] END ..............................kmeans__n_clusters=33; total time=   0.4s\n",
      "[CV] END ..............................kmeans__n_clusters=33; total time=   0.4s\n",
      "[CV] END ..............................kmeans__n_clusters=33; total time=   0.4s\n",
      "[CV] END ..............................kmeans__n_clusters=34; total time=   0.4s\n",
      "[CV] END ..............................kmeans__n_clusters=34; total time=   0.4s\n",
      "[CV] END ..............................kmeans__n_clusters=34; total time=   0.4s\n",
      "[CV] END ..............................kmeans__n_clusters=35; total time=   0.4s\n",
      "[CV] END ..............................kmeans__n_clusters=35; total time=   0.4s\n",
      "[CV] END ..............................kmeans__n_clusters=35; total time=   0.4s\n",
      "[CV] END ..............................kmeans__n_clusters=36; total time=   0.4s\n",
      "[CV] END ..............................kmeans__n_clusters=36; total time=   0.4s\n",
      "[CV] END ..............................kmeans__n_clusters=36; total time=   0.4s\n",
      "[CV] END ..............................kmeans__n_clusters=37; total time=   0.4s\n",
      "[CV] END ..............................kmeans__n_clusters=37; total time=   0.4s\n",
      "[CV] END ..............................kmeans__n_clusters=37; total time=   0.4s\n",
      "[CV] END ..............................kmeans__n_clusters=38; total time=   0.4s\n",
      "[CV] END ..............................kmeans__n_clusters=38; total time=   0.4s\n",
      "[CV] END ..............................kmeans__n_clusters=38; total time=   0.4s\n",
      "[CV] END ..............................kmeans__n_clusters=39; total time=   0.4s\n",
      "[CV] END ..............................kmeans__n_clusters=39; total time=   0.4s\n",
      "[CV] END ..............................kmeans__n_clusters=39; total time=   0.4s\n",
      "[CV] END ..............................kmeans__n_clusters=40; total time=   0.5s\n",
      "[CV] END ..............................kmeans__n_clusters=40; total time=   0.5s\n",
      "[CV] END ..............................kmeans__n_clusters=40; total time=   0.4s\n",
      "[CV] END ..............................kmeans__n_clusters=41; total time=   0.5s\n",
      "[CV] END ..............................kmeans__n_clusters=41; total time=   0.4s\n",
      "[CV] END ..............................kmeans__n_clusters=41; total time=   0.5s\n",
      "[CV] END ..............................kmeans__n_clusters=42; total time=   0.4s\n",
      "[CV] END ..............................kmeans__n_clusters=42; total time=   0.5s\n",
      "[CV] END ..............................kmeans__n_clusters=42; total time=   0.4s\n",
      "[CV] END ..............................kmeans__n_clusters=43; total time=   0.4s\n",
      "[CV] END ..............................kmeans__n_clusters=43; total time=   0.6s\n",
      "[CV] END ..............................kmeans__n_clusters=43; total time=   0.5s\n",
      "[CV] END ..............................kmeans__n_clusters=44; total time=   0.5s\n",
      "[CV] END ..............................kmeans__n_clusters=44; total time=   0.5s\n",
      "[CV] END ..............................kmeans__n_clusters=44; total time=   0.4s\n",
      "[CV] END ..............................kmeans__n_clusters=45; total time=   0.4s\n",
      "[CV] END ..............................kmeans__n_clusters=45; total time=   0.4s\n",
      "[CV] END ..............................kmeans__n_clusters=45; total time=   0.5s\n",
      "[CV] END ..............................kmeans__n_clusters=46; total time=   0.5s\n",
      "[CV] END ..............................kmeans__n_clusters=46; total time=   0.5s\n",
      "[CV] END ..............................kmeans__n_clusters=46; total time=   0.4s\n",
      "[CV] END ..............................kmeans__n_clusters=47; total time=   0.5s\n",
      "[CV] END ..............................kmeans__n_clusters=47; total time=   0.4s\n",
      "[CV] END ..............................kmeans__n_clusters=47; total time=   0.5s\n",
      "[CV] END ..............................kmeans__n_clusters=48; total time=   0.5s\n",
      "[CV] END ..............................kmeans__n_clusters=48; total time=   0.5s\n",
      "[CV] END ..............................kmeans__n_clusters=48; total time=   0.5s\n",
      "[CV] END ..............................kmeans__n_clusters=49; total time=   0.5s\n",
      "[CV] END ..............................kmeans__n_clusters=49; total time=   0.5s\n",
      "[CV] END ..............................kmeans__n_clusters=49; total time=   0.5s\n",
      "[CV] END ..............................kmeans__n_clusters=50; total time=   0.5s\n",
      "[CV] END ..............................kmeans__n_clusters=50; total time=   0.6s\n",
      "[CV] END ..............................kmeans__n_clusters=50; total time=   0.6s\n",
      "[CV] END ..............................kmeans__n_clusters=51; total time=   0.5s\n",
      "[CV] END ..............................kmeans__n_clusters=51; total time=   0.5s\n",
      "[CV] END ..............................kmeans__n_clusters=51; total time=   0.6s\n",
      "[CV] END ..............................kmeans__n_clusters=52; total time=   0.5s\n",
      "[CV] END ..............................kmeans__n_clusters=52; total time=   0.5s\n",
      "[CV] END ..............................kmeans__n_clusters=52; total time=   0.5s\n",
      "[CV] END ..............................kmeans__n_clusters=53; total time=   0.5s\n",
      "[CV] END ..............................kmeans__n_clusters=53; total time=   0.5s\n",
      "[CV] END ..............................kmeans__n_clusters=53; total time=   0.5s\n",
      "[CV] END ..............................kmeans__n_clusters=54; total time=   0.6s\n",
      "[CV] END ..............................kmeans__n_clusters=54; total time=   0.6s\n",
      "[CV] END ..............................kmeans__n_clusters=54; total time=   0.7s\n",
      "[CV] END ..............................kmeans__n_clusters=55; total time=   0.7s\n",
      "[CV] END ..............................kmeans__n_clusters=55; total time=   0.7s\n",
      "[CV] END ..............................kmeans__n_clusters=55; total time=   0.7s\n",
      "[CV] END ..............................kmeans__n_clusters=56; total time=   0.6s\n",
      "[CV] END ..............................kmeans__n_clusters=56; total time=   0.6s\n",
      "[CV] END ..............................kmeans__n_clusters=56; total time=   0.5s\n",
      "[CV] END ..............................kmeans__n_clusters=57; total time=   0.6s\n",
      "[CV] END ..............................kmeans__n_clusters=57; total time=   0.6s\n",
      "[CV] END ..............................kmeans__n_clusters=57; total time=   0.6s\n",
      "[CV] END ..............................kmeans__n_clusters=58; total time=   0.6s\n",
      "[CV] END ..............................kmeans__n_clusters=58; total time=   0.6s\n",
      "[CV] END ..............................kmeans__n_clusters=58; total time=   0.6s\n",
      "[CV] END ..............................kmeans__n_clusters=59; total time=   0.6s\n",
      "[CV] END ..............................kmeans__n_clusters=59; total time=   0.6s\n",
      "[CV] END ..............................kmeans__n_clusters=59; total time=   0.6s\n",
      "[CV] END ..............................kmeans__n_clusters=60; total time=   0.6s\n",
      "[CV] END ..............................kmeans__n_clusters=60; total time=   0.7s\n",
      "[CV] END ..............................kmeans__n_clusters=60; total time=   0.7s\n",
      "[CV] END ..............................kmeans__n_clusters=61; total time=   0.7s\n",
      "[CV] END ..............................kmeans__n_clusters=61; total time=   0.6s\n",
      "[CV] END ..............................kmeans__n_clusters=61; total time=   0.6s\n",
      "[CV] END ..............................kmeans__n_clusters=62; total time=   0.6s\n",
      "[CV] END ..............................kmeans__n_clusters=62; total time=   0.6s\n",
      "[CV] END ..............................kmeans__n_clusters=62; total time=   0.6s\n",
      "[CV] END ..............................kmeans__n_clusters=63; total time=   0.6s\n",
      "[CV] END ..............................kmeans__n_clusters=63; total time=   0.6s\n",
      "[CV] END ..............................kmeans__n_clusters=63; total time=   0.6s\n",
      "[CV] END ..............................kmeans__n_clusters=64; total time=   0.6s\n",
      "[CV] END ..............................kmeans__n_clusters=64; total time=   0.6s\n",
      "[CV] END ..............................kmeans__n_clusters=64; total time=   0.6s\n",
      "[CV] END ..............................kmeans__n_clusters=65; total time=   0.6s\n",
      "[CV] END ..............................kmeans__n_clusters=65; total time=   0.6s\n",
      "[CV] END ..............................kmeans__n_clusters=65; total time=   0.7s\n",
      "[CV] END ..............................kmeans__n_clusters=66; total time=   0.6s\n",
      "[CV] END ..............................kmeans__n_clusters=66; total time=   0.6s\n",
      "[CV] END ..............................kmeans__n_clusters=66; total time=   0.6s\n",
      "[CV] END ..............................kmeans__n_clusters=67; total time=   0.6s\n",
      "[CV] END ..............................kmeans__n_clusters=67; total time=   0.7s\n",
      "[CV] END ..............................kmeans__n_clusters=67; total time=   0.6s\n",
      "[CV] END ..............................kmeans__n_clusters=68; total time=   0.7s\n",
      "[CV] END ..............................kmeans__n_clusters=68; total time=   0.6s\n",
      "[CV] END ..............................kmeans__n_clusters=68; total time=   0.6s\n",
      "[CV] END ..............................kmeans__n_clusters=69; total time=   0.7s\n",
      "[CV] END ..............................kmeans__n_clusters=69; total time=   0.6s\n",
      "[CV] END ..............................kmeans__n_clusters=69; total time=   0.7s\n",
      "[CV] END ..............................kmeans__n_clusters=70; total time=   0.7s\n",
      "[CV] END ..............................kmeans__n_clusters=70; total time=   0.6s\n",
      "[CV] END ..............................kmeans__n_clusters=70; total time=   0.7s\n",
      "[CV] END ..............................kmeans__n_clusters=71; total time=   0.7s\n",
      "[CV] END ..............................kmeans__n_clusters=71; total time=   0.7s\n",
      "[CV] END ..............................kmeans__n_clusters=71; total time=   0.7s\n",
      "[CV] END ..............................kmeans__n_clusters=72; total time=   0.7s\n",
      "[CV] END ..............................kmeans__n_clusters=72; total time=   0.7s\n",
      "[CV] END ..............................kmeans__n_clusters=72; total time=   0.8s\n",
      "[CV] END ..............................kmeans__n_clusters=73; total time=   0.7s\n",
      "[CV] END ..............................kmeans__n_clusters=73; total time=   0.7s\n",
      "[CV] END ..............................kmeans__n_clusters=73; total time=   0.7s\n",
      "[CV] END ..............................kmeans__n_clusters=74; total time=   0.7s\n",
      "[CV] END ..............................kmeans__n_clusters=74; total time=   0.7s\n",
      "[CV] END ..............................kmeans__n_clusters=74; total time=   0.8s\n",
      "[CV] END ..............................kmeans__n_clusters=75; total time=   0.8s\n",
      "[CV] END ..............................kmeans__n_clusters=75; total time=   0.7s\n",
      "[CV] END ..............................kmeans__n_clusters=75; total time=   0.8s\n",
      "[CV] END ..............................kmeans__n_clusters=76; total time=   0.8s\n",
      "[CV] END ..............................kmeans__n_clusters=76; total time=   0.8s\n",
      "[CV] END ..............................kmeans__n_clusters=76; total time=   0.7s\n",
      "[CV] END ..............................kmeans__n_clusters=77; total time=   0.7s\n",
      "[CV] END ..............................kmeans__n_clusters=77; total time=   0.7s\n",
      "[CV] END ..............................kmeans__n_clusters=77; total time=   0.7s\n",
      "[CV] END ..............................kmeans__n_clusters=78; total time=   0.7s\n",
      "[CV] END ..............................kmeans__n_clusters=78; total time=   0.7s\n",
      "[CV] END ..............................kmeans__n_clusters=78; total time=   0.7s\n",
      "[CV] END ..............................kmeans__n_clusters=79; total time=   0.7s\n",
      "[CV] END ..............................kmeans__n_clusters=79; total time=   0.8s\n",
      "[CV] END ..............................kmeans__n_clusters=79; total time=   0.8s\n",
      "[CV] END ..............................kmeans__n_clusters=80; total time=   0.7s\n",
      "[CV] END ..............................kmeans__n_clusters=80; total time=   0.8s\n",
      "[CV] END ..............................kmeans__n_clusters=80; total time=   0.8s\n",
      "[CV] END ..............................kmeans__n_clusters=81; total time=   0.8s\n",
      "[CV] END ..............................kmeans__n_clusters=81; total time=   0.8s\n",
      "[CV] END ..............................kmeans__n_clusters=81; total time=   0.8s\n",
      "[CV] END ..............................kmeans__n_clusters=82; total time=   0.8s\n",
      "[CV] END ..............................kmeans__n_clusters=82; total time=   0.7s\n",
      "[CV] END ..............................kmeans__n_clusters=82; total time=   0.9s\n",
      "[CV] END ..............................kmeans__n_clusters=83; total time=   0.8s\n",
      "[CV] END ..............................kmeans__n_clusters=83; total time=   0.8s\n",
      "[CV] END ..............................kmeans__n_clusters=83; total time=   0.7s\n",
      "[CV] END ..............................kmeans__n_clusters=84; total time=   0.8s\n",
      "[CV] END ..............................kmeans__n_clusters=84; total time=   0.7s\n",
      "[CV] END ..............................kmeans__n_clusters=84; total time=   0.8s\n",
      "[CV] END ..............................kmeans__n_clusters=85; total time=   0.8s\n",
      "[CV] END ..............................kmeans__n_clusters=85; total time=   0.7s\n",
      "[CV] END ..............................kmeans__n_clusters=85; total time=   0.8s\n",
      "[CV] END ..............................kmeans__n_clusters=86; total time=   0.8s\n",
      "[CV] END ..............................kmeans__n_clusters=86; total time=   0.9s\n",
      "[CV] END ..............................kmeans__n_clusters=86; total time=   0.8s\n",
      "[CV] END ..............................kmeans__n_clusters=87; total time=   0.8s\n",
      "[CV] END ..............................kmeans__n_clusters=87; total time=   0.8s\n",
      "[CV] END ..............................kmeans__n_clusters=87; total time=   0.8s\n",
      "[CV] END ..............................kmeans__n_clusters=88; total time=   0.8s\n",
      "[CV] END ..............................kmeans__n_clusters=88; total time=   0.8s\n",
      "[CV] END ..............................kmeans__n_clusters=88; total time=   0.8s\n",
      "[CV] END ..............................kmeans__n_clusters=89; total time=   0.8s\n",
      "[CV] END ..............................kmeans__n_clusters=89; total time=   0.8s\n",
      "[CV] END ..............................kmeans__n_clusters=89; total time=   0.8s\n",
      "[CV] END ..............................kmeans__n_clusters=90; total time=   0.8s\n",
      "[CV] END ..............................kmeans__n_clusters=90; total time=   0.8s\n",
      "[CV] END ..............................kmeans__n_clusters=90; total time=   0.8s\n",
      "[CV] END ..............................kmeans__n_clusters=91; total time=   0.8s\n",
      "[CV] END ..............................kmeans__n_clusters=91; total time=   0.8s\n",
      "[CV] END ..............................kmeans__n_clusters=91; total time=   0.8s\n",
      "[CV] END ..............................kmeans__n_clusters=92; total time=   0.8s\n",
      "[CV] END ..............................kmeans__n_clusters=92; total time=   0.8s\n",
      "[CV] END ..............................kmeans__n_clusters=92; total time=   0.8s\n",
      "[CV] END ..............................kmeans__n_clusters=93; total time=   0.9s\n",
      "[CV] END ..............................kmeans__n_clusters=93; total time=   0.8s\n",
      "[CV] END ..............................kmeans__n_clusters=93; total time=   0.8s\n",
      "[CV] END ..............................kmeans__n_clusters=94; total time=   0.8s\n",
      "[CV] END ..............................kmeans__n_clusters=94; total time=   0.8s\n",
      "[CV] END ..............................kmeans__n_clusters=94; total time=   0.8s\n",
      "[CV] END ..............................kmeans__n_clusters=95; total time=   0.8s\n",
      "[CV] END ..............................kmeans__n_clusters=95; total time=   0.8s\n",
      "[CV] END ..............................kmeans__n_clusters=95; total time=   0.8s\n",
      "[CV] END ..............................kmeans__n_clusters=96; total time=   0.8s\n",
      "[CV] END ..............................kmeans__n_clusters=96; total time=   0.8s\n",
      "[CV] END ..............................kmeans__n_clusters=96; total time=   0.8s\n",
      "[CV] END ..............................kmeans__n_clusters=97; total time=   0.9s\n",
      "[CV] END ..............................kmeans__n_clusters=97; total time=   1.0s\n",
      "[CV] END ..............................kmeans__n_clusters=97; total time=   0.9s\n",
      "[CV] END ..............................kmeans__n_clusters=98; total time=   0.9s\n",
      "[CV] END ..............................kmeans__n_clusters=98; total time=   0.8s\n",
      "[CV] END ..............................kmeans__n_clusters=98; total time=   0.9s\n",
      "[CV] END ..............................kmeans__n_clusters=99; total time=   0.9s\n",
      "[CV] END ..............................kmeans__n_clusters=99; total time=   0.9s\n",
      "[CV] END ..............................kmeans__n_clusters=99; total time=   1.0s\n",
      "[CV] END .............................kmeans__n_clusters=100; total time=   1.0s\n",
      "[CV] END .............................kmeans__n_clusters=100; total time=   0.9s\n",
      "[CV] END .............................kmeans__n_clusters=100; total time=   0.9s\n",
      "[CV] END .............................kmeans__n_clusters=101; total time=   0.9s\n",
      "[CV] END .............................kmeans__n_clusters=101; total time=   0.9s\n",
      "[CV] END .............................kmeans__n_clusters=101; total time=   0.9s\n",
      "[CV] END .............................kmeans__n_clusters=102; total time=   0.9s\n",
      "[CV] END .............................kmeans__n_clusters=102; total time=   0.9s\n",
      "[CV] END .............................kmeans__n_clusters=102; total time=   0.9s\n",
      "[CV] END .............................kmeans__n_clusters=103; total time=   0.9s\n",
      "[CV] END .............................kmeans__n_clusters=103; total time=   0.9s\n",
      "[CV] END .............................kmeans__n_clusters=103; total time=   0.9s\n",
      "[CV] END .............................kmeans__n_clusters=104; total time=   0.9s\n",
      "[CV] END .............................kmeans__n_clusters=104; total time=   0.9s\n",
      "[CV] END .............................kmeans__n_clusters=104; total time=   0.9s\n",
      "[CV] END .............................kmeans__n_clusters=105; total time=   0.9s\n",
      "[CV] END .............................kmeans__n_clusters=105; total time=   0.9s\n",
      "[CV] END .............................kmeans__n_clusters=105; total time=   0.9s\n",
      "[CV] END .............................kmeans__n_clusters=106; total time=   0.9s\n",
      "[CV] END .............................kmeans__n_clusters=106; total time=   0.9s\n",
      "[CV] END .............................kmeans__n_clusters=106; total time=   0.9s\n",
      "[CV] END .............................kmeans__n_clusters=107; total time=   0.9s\n",
      "[CV] END .............................kmeans__n_clusters=107; total time=   1.0s\n",
      "[CV] END .............................kmeans__n_clusters=107; total time=   1.1s\n",
      "[CV] END .............................kmeans__n_clusters=108; total time=   1.1s\n",
      "[CV] END .............................kmeans__n_clusters=108; total time=   1.0s\n",
      "[CV] END .............................kmeans__n_clusters=108; total time=   0.9s\n",
      "[CV] END .............................kmeans__n_clusters=109; total time=   0.9s\n",
      "[CV] END .............................kmeans__n_clusters=109; total time=   0.9s\n",
      "[CV] END .............................kmeans__n_clusters=109; total time=   0.9s\n",
      "[CV] END .............................kmeans__n_clusters=110; total time=   1.0s\n",
      "[CV] END .............................kmeans__n_clusters=110; total time=   1.0s\n",
      "[CV] END .............................kmeans__n_clusters=110; total time=   0.9s\n",
      "[CV] END .............................kmeans__n_clusters=111; total time=   1.0s\n",
      "[CV] END .............................kmeans__n_clusters=111; total time=   1.0s\n",
      "[CV] END .............................kmeans__n_clusters=111; total time=   1.0s\n",
      "[CV] END .............................kmeans__n_clusters=112; total time=   1.0s\n",
      "[CV] END .............................kmeans__n_clusters=112; total time=   1.0s\n",
      "[CV] END .............................kmeans__n_clusters=112; total time=   1.0s\n",
      "[CV] END .............................kmeans__n_clusters=113; total time=   1.0s\n",
      "[CV] END .............................kmeans__n_clusters=113; total time=   1.0s\n",
      "[CV] END .............................kmeans__n_clusters=113; total time=   0.9s\n",
      "[CV] END .............................kmeans__n_clusters=114; total time=   1.0s\n",
      "[CV] END .............................kmeans__n_clusters=114; total time=   0.9s\n",
      "[CV] END .............................kmeans__n_clusters=114; total time=   0.9s\n",
      "[CV] END .............................kmeans__n_clusters=115; total time=   1.0s\n",
      "[CV] END .............................kmeans__n_clusters=115; total time=   1.1s\n",
      "[CV] END .............................kmeans__n_clusters=115; total time=   1.0s\n",
      "[CV] END .............................kmeans__n_clusters=116; total time=   1.0s\n",
      "[CV] END .............................kmeans__n_clusters=116; total time=   1.0s\n",
      "[CV] END .............................kmeans__n_clusters=116; total time=   1.1s\n",
      "[CV] END .............................kmeans__n_clusters=117; total time=   1.0s\n",
      "[CV] END .............................kmeans__n_clusters=117; total time=   1.0s\n",
      "[CV] END .............................kmeans__n_clusters=117; total time=   1.0s\n",
      "[CV] END .............................kmeans__n_clusters=118; total time=   1.1s\n",
      "[CV] END .............................kmeans__n_clusters=118; total time=   1.0s\n",
      "[CV] END .............................kmeans__n_clusters=118; total time=   1.0s\n",
      "[CV] END .............................kmeans__n_clusters=119; total time=   1.1s\n",
      "[CV] END .............................kmeans__n_clusters=119; total time=   1.0s\n",
      "[CV] END .............................kmeans__n_clusters=119; total time=   1.0s\n"
     ]
    },
    {
     "data": {
      "text/html": [
       "<style>#sk-container-id-26 {color: black;background-color: white;}#sk-container-id-26 pre{padding: 0;}#sk-container-id-26 div.sk-toggleable {background-color: white;}#sk-container-id-26 label.sk-toggleable__label {cursor: pointer;display: block;width: 100%;margin-bottom: 0;padding: 0.3em;box-sizing: border-box;text-align: center;}#sk-container-id-26 label.sk-toggleable__label-arrow:before {content: \"▸\";float: left;margin-right: 0.25em;color: #696969;}#sk-container-id-26 label.sk-toggleable__label-arrow:hover:before {color: black;}#sk-container-id-26 div.sk-estimator:hover label.sk-toggleable__label-arrow:before {color: black;}#sk-container-id-26 div.sk-toggleable__content {max-height: 0;max-width: 0;overflow: hidden;text-align: left;background-color: #f0f8ff;}#sk-container-id-26 div.sk-toggleable__content pre {margin: 0.2em;color: black;border-radius: 0.25em;background-color: #f0f8ff;}#sk-container-id-26 input.sk-toggleable__control:checked~div.sk-toggleable__content {max-height: 200px;max-width: 100%;overflow: auto;}#sk-container-id-26 input.sk-toggleable__control:checked~label.sk-toggleable__label-arrow:before {content: \"▾\";}#sk-container-id-26 div.sk-estimator input.sk-toggleable__control:checked~label.sk-toggleable__label {background-color: #d4ebff;}#sk-container-id-26 div.sk-label input.sk-toggleable__control:checked~label.sk-toggleable__label {background-color: #d4ebff;}#sk-container-id-26 input.sk-hidden--visually {border: 0;clip: rect(1px 1px 1px 1px);clip: rect(1px, 1px, 1px, 1px);height: 1px;margin: -1px;overflow: hidden;padding: 0;position: absolute;width: 1px;}#sk-container-id-26 div.sk-estimator {font-family: monospace;background-color: #f0f8ff;border: 1px dotted black;border-radius: 0.25em;box-sizing: border-box;margin-bottom: 0.5em;}#sk-container-id-26 div.sk-estimator:hover {background-color: #d4ebff;}#sk-container-id-26 div.sk-parallel-item::after {content: \"\";width: 100%;border-bottom: 1px solid gray;flex-grow: 1;}#sk-container-id-26 div.sk-label:hover label.sk-toggleable__label {background-color: #d4ebff;}#sk-container-id-26 div.sk-serial::before {content: \"\";position: absolute;border-left: 1px solid gray;box-sizing: border-box;top: 0;bottom: 0;left: 50%;z-index: 0;}#sk-container-id-26 div.sk-serial {display: flex;flex-direction: column;align-items: center;background-color: white;padding-right: 0.2em;padding-left: 0.2em;position: relative;}#sk-container-id-26 div.sk-item {position: relative;z-index: 1;}#sk-container-id-26 div.sk-parallel {display: flex;align-items: stretch;justify-content: center;background-color: white;position: relative;}#sk-container-id-26 div.sk-item::before, #sk-container-id-26 div.sk-parallel-item::before {content: \"\";position: absolute;border-left: 1px solid gray;box-sizing: border-box;top: 0;bottom: 0;left: 50%;z-index: -1;}#sk-container-id-26 div.sk-parallel-item {display: flex;flex-direction: column;z-index: 1;position: relative;background-color: white;}#sk-container-id-26 div.sk-parallel-item:first-child::after {align-self: flex-end;width: 50%;}#sk-container-id-26 div.sk-parallel-item:last-child::after {align-self: flex-start;width: 50%;}#sk-container-id-26 div.sk-parallel-item:only-child::after {width: 0;}#sk-container-id-26 div.sk-dashed-wrapped {border: 1px dashed gray;margin: 0 0.4em 0.5em 0.4em;box-sizing: border-box;padding-bottom: 0.4em;background-color: white;}#sk-container-id-26 div.sk-label label {font-family: monospace;font-weight: bold;display: inline-block;line-height: 1.2em;}#sk-container-id-26 div.sk-label-container {text-align: center;}#sk-container-id-26 div.sk-container {/* jupyter's `normalize.less` sets `[hidden] { display: none; }` but bootstrap.min.css set `[hidden] { display: none !important; }` so we also need the `!important` here to be able to override the default hidden behavior on the sphinx rendered scikit-learn.org. See: https://github.com/scikit-learn/scikit-learn/issues/21755 */display: inline-block !important;position: relative;}#sk-container-id-26 div.sk-text-repr-fallback {display: none;}</style><div id=\"sk-container-id-26\" class=\"sk-top-container\"><div class=\"sk-text-repr-fallback\"><pre>GridSearchCV(cv=3,\n",
       "             estimator=Pipeline(steps=[(&#x27;kmeans&#x27;, KMeans(n_clusters=30)),\n",
       "                                       (&#x27;log_reg&#x27;,\n",
       "                                        LogisticRegression(max_iter=200,\n",
       "                                                           n_jobs=-1,\n",
       "                                                           random_state=0))]),\n",
       "             param_grid={&#x27;kmeans__n_clusters&#x27;: range(2, 120)}, verbose=2)</pre><b>In a Jupyter environment, please rerun this cell to show the HTML representation or trust the notebook. <br />On GitHub, the HTML representation is unable to render, please try loading this page with nbviewer.org.</b></div><div class=\"sk-container\" hidden><div class=\"sk-item sk-dashed-wrapped\"><div class=\"sk-label-container\"><div class=\"sk-label sk-toggleable\"><input class=\"sk-toggleable__control sk-hidden--visually\" id=\"sk-estimator-id-70\" type=\"checkbox\" ><label for=\"sk-estimator-id-70\" class=\"sk-toggleable__label sk-toggleable__label-arrow\">GridSearchCV</label><div class=\"sk-toggleable__content\"><pre>GridSearchCV(cv=3,\n",
       "             estimator=Pipeline(steps=[(&#x27;kmeans&#x27;, KMeans(n_clusters=30)),\n",
       "                                       (&#x27;log_reg&#x27;,\n",
       "                                        LogisticRegression(max_iter=200,\n",
       "                                                           n_jobs=-1,\n",
       "                                                           random_state=0))]),\n",
       "             param_grid={&#x27;kmeans__n_clusters&#x27;: range(2, 120)}, verbose=2)</pre></div></div></div><div class=\"sk-parallel\"><div class=\"sk-parallel-item\"><div class=\"sk-item\"><div class=\"sk-label-container\"><div class=\"sk-label sk-toggleable\"><input class=\"sk-toggleable__control sk-hidden--visually\" id=\"sk-estimator-id-71\" type=\"checkbox\" ><label for=\"sk-estimator-id-71\" class=\"sk-toggleable__label sk-toggleable__label-arrow\">estimator: Pipeline</label><div class=\"sk-toggleable__content\"><pre>Pipeline(steps=[(&#x27;kmeans&#x27;, KMeans(n_clusters=30)),\n",
       "                (&#x27;log_reg&#x27;,\n",
       "                 LogisticRegression(max_iter=200, n_jobs=-1, random_state=0))])</pre></div></div></div><div class=\"sk-serial\"><div class=\"sk-item\"><div class=\"sk-serial\"><div class=\"sk-item\"><div class=\"sk-estimator sk-toggleable\"><input class=\"sk-toggleable__control sk-hidden--visually\" id=\"sk-estimator-id-72\" type=\"checkbox\" ><label for=\"sk-estimator-id-72\" class=\"sk-toggleable__label sk-toggleable__label-arrow\">KMeans</label><div class=\"sk-toggleable__content\"><pre>KMeans(n_clusters=30)</pre></div></div></div><div class=\"sk-item\"><div class=\"sk-estimator sk-toggleable\"><input class=\"sk-toggleable__control sk-hidden--visually\" id=\"sk-estimator-id-73\" type=\"checkbox\" ><label for=\"sk-estimator-id-73\" class=\"sk-toggleable__label sk-toggleable__label-arrow\">LogisticRegression</label><div class=\"sk-toggleable__content\"><pre>LogisticRegression(max_iter=200, n_jobs=-1, random_state=0)</pre></div></div></div></div></div></div></div></div></div></div></div></div>"
      ],
      "text/plain": [
       "GridSearchCV(cv=3,\n",
       "             estimator=Pipeline(steps=[('kmeans', KMeans(n_clusters=30)),\n",
       "                                       ('log_reg',\n",
       "                                        LogisticRegression(max_iter=200,\n",
       "                                                           n_jobs=-1,\n",
       "                                                           random_state=0))]),\n",
       "             param_grid={'kmeans__n_clusters': range(2, 120)}, verbose=2)"
      ]
     },
     "execution_count": 103,
     "metadata": {},
     "output_type": "execute_result"
    }
   ],
   "source": [
    "param_grid = dict(kmeans__n_clusters=range(2, 120))\n",
    "grid_clf = GridSearchCV(pipeline, param_grid, cv=3, verbose=2)\n",
    "grid_clf.fit(X_train, y_train)"
   ]
  },
  {
   "cell_type": "code",
   "execution_count": 104,
   "metadata": {},
   "outputs": [
    {
     "name": "stdout",
     "output_type": "stream",
     "text": [
      "{'kmeans__n_clusters': 109}\n"
     ]
    }
   ],
   "source": [
    "print(grid_clf.best_params_)"
   ]
  },
  {
   "cell_type": "code",
   "execution_count": 105,
   "metadata": {},
   "outputs": [
    {
     "data": {
      "text/plain": [
       "0.9555555555555556"
      ]
     },
     "execution_count": 105,
     "metadata": {},
     "output_type": "execute_result"
    }
   ],
   "source": [
    "grid_clf.score(X_test,  y_test)"
   ]
  },
  {
   "cell_type": "code",
   "execution_count": 11,
   "metadata": {},
   "outputs": [
    {
     "name": "stdout",
     "output_type": "stream",
     "text": [
      "Fitting 3 folds for each of 490 candidates, totalling 1470 fits\n"
     ]
    },
    {
     "data": {
      "text/html": [
       "<style>#sk-container-id-3 {color: black;background-color: white;}#sk-container-id-3 pre{padding: 0;}#sk-container-id-3 div.sk-toggleable {background-color: white;}#sk-container-id-3 label.sk-toggleable__label {cursor: pointer;display: block;width: 100%;margin-bottom: 0;padding: 0.3em;box-sizing: border-box;text-align: center;}#sk-container-id-3 label.sk-toggleable__label-arrow:before {content: \"▸\";float: left;margin-right: 0.25em;color: #696969;}#sk-container-id-3 label.sk-toggleable__label-arrow:hover:before {color: black;}#sk-container-id-3 div.sk-estimator:hover label.sk-toggleable__label-arrow:before {color: black;}#sk-container-id-3 div.sk-toggleable__content {max-height: 0;max-width: 0;overflow: hidden;text-align: left;background-color: #f0f8ff;}#sk-container-id-3 div.sk-toggleable__content pre {margin: 0.2em;color: black;border-radius: 0.25em;background-color: #f0f8ff;}#sk-container-id-3 input.sk-toggleable__control:checked~div.sk-toggleable__content {max-height: 200px;max-width: 100%;overflow: auto;}#sk-container-id-3 input.sk-toggleable__control:checked~label.sk-toggleable__label-arrow:before {content: \"▾\";}#sk-container-id-3 div.sk-estimator input.sk-toggleable__control:checked~label.sk-toggleable__label {background-color: #d4ebff;}#sk-container-id-3 div.sk-label input.sk-toggleable__control:checked~label.sk-toggleable__label {background-color: #d4ebff;}#sk-container-id-3 input.sk-hidden--visually {border: 0;clip: rect(1px 1px 1px 1px);clip: rect(1px, 1px, 1px, 1px);height: 1px;margin: -1px;overflow: hidden;padding: 0;position: absolute;width: 1px;}#sk-container-id-3 div.sk-estimator {font-family: monospace;background-color: #f0f8ff;border: 1px dotted black;border-radius: 0.25em;box-sizing: border-box;margin-bottom: 0.5em;}#sk-container-id-3 div.sk-estimator:hover {background-color: #d4ebff;}#sk-container-id-3 div.sk-parallel-item::after {content: \"\";width: 100%;border-bottom: 1px solid gray;flex-grow: 1;}#sk-container-id-3 div.sk-label:hover label.sk-toggleable__label {background-color: #d4ebff;}#sk-container-id-3 div.sk-serial::before {content: \"\";position: absolute;border-left: 1px solid gray;box-sizing: border-box;top: 0;bottom: 0;left: 50%;z-index: 0;}#sk-container-id-3 div.sk-serial {display: flex;flex-direction: column;align-items: center;background-color: white;padding-right: 0.2em;padding-left: 0.2em;position: relative;}#sk-container-id-3 div.sk-item {position: relative;z-index: 1;}#sk-container-id-3 div.sk-parallel {display: flex;align-items: stretch;justify-content: center;background-color: white;position: relative;}#sk-container-id-3 div.sk-item::before, #sk-container-id-3 div.sk-parallel-item::before {content: \"\";position: absolute;border-left: 1px solid gray;box-sizing: border-box;top: 0;bottom: 0;left: 50%;z-index: -1;}#sk-container-id-3 div.sk-parallel-item {display: flex;flex-direction: column;z-index: 1;position: relative;background-color: white;}#sk-container-id-3 div.sk-parallel-item:first-child::after {align-self: flex-end;width: 50%;}#sk-container-id-3 div.sk-parallel-item:last-child::after {align-self: flex-start;width: 50%;}#sk-container-id-3 div.sk-parallel-item:only-child::after {width: 0;}#sk-container-id-3 div.sk-dashed-wrapped {border: 1px dashed gray;margin: 0 0.4em 0.5em 0.4em;box-sizing: border-box;padding-bottom: 0.4em;background-color: white;}#sk-container-id-3 div.sk-label label {font-family: monospace;font-weight: bold;display: inline-block;line-height: 1.2em;}#sk-container-id-3 div.sk-label-container {text-align: center;}#sk-container-id-3 div.sk-container {/* jupyter's `normalize.less` sets `[hidden] { display: none; }` but bootstrap.min.css set `[hidden] { display: none !important; }` so we also need the `!important` here to be able to override the default hidden behavior on the sphinx rendered scikit-learn.org. See: https://github.com/scikit-learn/scikit-learn/issues/21755 */display: inline-block !important;position: relative;}#sk-container-id-3 div.sk-text-repr-fallback {display: none;}</style><div id=\"sk-container-id-3\" class=\"sk-top-container\"><div class=\"sk-text-repr-fallback\"><pre>GridSearchCV(cv=3, estimator=KMeans(), n_jobs=-1,\n",
       "             param_grid={&#x27;n_clusters&#x27;: range(2, 100),\n",
       "                         &#x27;n_init&#x27;: range(10, 20, 2)},\n",
       "             verbose=2)</pre><b>In a Jupyter environment, please rerun this cell to show the HTML representation or trust the notebook. <br />On GitHub, the HTML representation is unable to render, please try loading this page with nbviewer.org.</b></div><div class=\"sk-container\" hidden><div class=\"sk-item sk-dashed-wrapped\"><div class=\"sk-label-container\"><div class=\"sk-label sk-toggleable\"><input class=\"sk-toggleable__control sk-hidden--visually\" id=\"sk-estimator-id-5\" type=\"checkbox\" ><label for=\"sk-estimator-id-5\" class=\"sk-toggleable__label sk-toggleable__label-arrow\">GridSearchCV</label><div class=\"sk-toggleable__content\"><pre>GridSearchCV(cv=3, estimator=KMeans(), n_jobs=-1,\n",
       "             param_grid={&#x27;n_clusters&#x27;: range(2, 100),\n",
       "                         &#x27;n_init&#x27;: range(10, 20, 2)},\n",
       "             verbose=2)</pre></div></div></div><div class=\"sk-parallel\"><div class=\"sk-parallel-item\"><div class=\"sk-item\"><div class=\"sk-label-container\"><div class=\"sk-label sk-toggleable\"><input class=\"sk-toggleable__control sk-hidden--visually\" id=\"sk-estimator-id-6\" type=\"checkbox\" ><label for=\"sk-estimator-id-6\" class=\"sk-toggleable__label sk-toggleable__label-arrow\">estimator: KMeans</label><div class=\"sk-toggleable__content\"><pre>KMeans()</pre></div></div></div><div class=\"sk-serial\"><div class=\"sk-item\"><div class=\"sk-estimator sk-toggleable\"><input class=\"sk-toggleable__control sk-hidden--visually\" id=\"sk-estimator-id-7\" type=\"checkbox\" ><label for=\"sk-estimator-id-7\" class=\"sk-toggleable__label sk-toggleable__label-arrow\">KMeans</label><div class=\"sk-toggleable__content\"><pre>KMeans()</pre></div></div></div></div></div></div></div></div></div></div>"
      ],
      "text/plain": [
       "GridSearchCV(cv=3, estimator=KMeans(), n_jobs=-1,\n",
       "             param_grid={'n_clusters': range(2, 100),\n",
       "                         'n_init': range(10, 20, 2)},\n",
       "             verbose=2)"
      ]
     },
     "execution_count": 11,
     "metadata": {},
     "output_type": "execute_result"
    }
   ],
   "source": [
    "param_grid = {\n",
    "    \"n_clusters\": range(2, 100),\n",
    "    \"n_init\": range(10, 20, 2)\n",
    "}\n",
    "\n",
    "kmeans_grid = model_selection.GridSearchCV(estimator=KMeans(), param_grid=param_grid, cv=3, verbose=2, n_jobs=-1)\n",
    "kmeans_grid.fit(X_train, y_train)"
   ]
  },
  {
   "cell_type": "code",
   "execution_count": 12,
   "metadata": {},
   "outputs": [
    {
     "data": {
      "text/plain": [
       "{'n_clusters': 99, 'n_init': 18}"
      ]
     },
     "execution_count": 12,
     "metadata": {},
     "output_type": "execute_result"
    }
   ],
   "source": [
    "kmeans_grid.best_params_"
   ]
  },
  {
   "cell_type": "code",
   "execution_count": 13,
   "metadata": {},
   "outputs": [
    {
     "data": {
      "text/plain": [
       "-177861.87401148502"
      ]
     },
     "execution_count": 13,
     "metadata": {},
     "output_type": "execute_result"
    }
   ],
   "source": [
    "kmeans_grid.score(X_test, y_test)"
   ]
  },
  {
   "cell_type": "code",
   "execution_count": 25,
   "metadata": {},
   "outputs": [
    {
     "data": {
      "text/html": [
       "<div>\n",
       "<style scoped>\n",
       "    .dataframe tbody tr th:only-of-type {\n",
       "        vertical-align: middle;\n",
       "    }\n",
       "\n",
       "    .dataframe tbody tr th {\n",
       "        vertical-align: top;\n",
       "    }\n",
       "\n",
       "    .dataframe thead th {\n",
       "        text-align: right;\n",
       "    }\n",
       "</style>\n",
       "<table border=\"1\" class=\"dataframe\">\n",
       "  <thead>\n",
       "    <tr style=\"text-align: right;\">\n",
       "      <th></th>\n",
       "      <th>mean_fit_time</th>\n",
       "      <th>std_fit_time</th>\n",
       "      <th>mean_score_time</th>\n",
       "      <th>std_score_time</th>\n",
       "      <th>param_n_clusters</th>\n",
       "      <th>param_n_init</th>\n",
       "      <th>params</th>\n",
       "      <th>split0_test_score</th>\n",
       "      <th>split1_test_score</th>\n",
       "      <th>split2_test_score</th>\n",
       "      <th>mean_test_score</th>\n",
       "      <th>std_test_score</th>\n",
       "      <th>rank_test_score</th>\n",
       "    </tr>\n",
       "  </thead>\n",
       "  <tbody>\n",
       "    <tr>\n",
       "      <th>0</th>\n",
       "      <td>0.356559</td>\n",
       "      <td>0.016050</td>\n",
       "      <td>0.000000</td>\n",
       "      <td>0.000000</td>\n",
       "      <td>2</td>\n",
       "      <td>10</td>\n",
       "      <td>{'n_clusters': 2, 'n_init': 10}</td>\n",
       "      <td>-480572.278791</td>\n",
       "      <td>-473756.970156</td>\n",
       "      <td>-481771.986561</td>\n",
       "      <td>-478700.411836</td>\n",
       "      <td>3529.687089</td>\n",
       "      <td>489</td>\n",
       "    </tr>\n",
       "    <tr>\n",
       "      <th>1</th>\n",
       "      <td>0.361184</td>\n",
       "      <td>0.018612</td>\n",
       "      <td>0.000000</td>\n",
       "      <td>0.000000</td>\n",
       "      <td>2</td>\n",
       "      <td>12</td>\n",
       "      <td>{'n_clusters': 2, 'n_init': 12}</td>\n",
       "      <td>-480534.546585</td>\n",
       "      <td>-473756.970156</td>\n",
       "      <td>-481771.986561</td>\n",
       "      <td>-478687.834434</td>\n",
       "      <td>3523.055617</td>\n",
       "      <td>486</td>\n",
       "    </tr>\n",
       "    <tr>\n",
       "      <th>2</th>\n",
       "      <td>0.371480</td>\n",
       "      <td>0.019883</td>\n",
       "      <td>0.002667</td>\n",
       "      <td>0.003771</td>\n",
       "      <td>2</td>\n",
       "      <td>14</td>\n",
       "      <td>{'n_clusters': 2, 'n_init': 14}</td>\n",
       "      <td>-480572.278791</td>\n",
       "      <td>-473756.970156</td>\n",
       "      <td>-481771.986561</td>\n",
       "      <td>-478700.411836</td>\n",
       "      <td>3529.687089</td>\n",
       "      <td>489</td>\n",
       "    </tr>\n",
       "    <tr>\n",
       "      <th>3</th>\n",
       "      <td>0.445814</td>\n",
       "      <td>0.060449</td>\n",
       "      <td>0.000000</td>\n",
       "      <td>0.000000</td>\n",
       "      <td>2</td>\n",
       "      <td>16</td>\n",
       "      <td>{'n_clusters': 2, 'n_init': 16}</td>\n",
       "      <td>-480550.241248</td>\n",
       "      <td>-473756.970156</td>\n",
       "      <td>-481771.986561</td>\n",
       "      <td>-478693.065988</td>\n",
       "      <td>3525.804585</td>\n",
       "      <td>487</td>\n",
       "    </tr>\n",
       "    <tr>\n",
       "      <th>4</th>\n",
       "      <td>0.405945</td>\n",
       "      <td>0.021559</td>\n",
       "      <td>0.000000</td>\n",
       "      <td>0.000000</td>\n",
       "      <td>2</td>\n",
       "      <td>18</td>\n",
       "      <td>{'n_clusters': 2, 'n_init': 18}</td>\n",
       "      <td>-480550.241248</td>\n",
       "      <td>-473756.970156</td>\n",
       "      <td>-481771.986561</td>\n",
       "      <td>-478693.065988</td>\n",
       "      <td>3525.804585</td>\n",
       "      <td>487</td>\n",
       "    </tr>\n",
       "    <tr>\n",
       "      <th>...</th>\n",
       "      <td>...</td>\n",
       "      <td>...</td>\n",
       "      <td>...</td>\n",
       "      <td>...</td>\n",
       "      <td>...</td>\n",
       "      <td>...</td>\n",
       "      <td>...</td>\n",
       "      <td>...</td>\n",
       "      <td>...</td>\n",
       "      <td>...</td>\n",
       "      <td>...</td>\n",
       "      <td>...</td>\n",
       "      <td>...</td>\n",
       "    </tr>\n",
       "    <tr>\n",
       "      <th>485</th>\n",
       "      <td>1.005214</td>\n",
       "      <td>0.092913</td>\n",
       "      <td>0.002667</td>\n",
       "      <td>0.003771</td>\n",
       "      <td>99</td>\n",
       "      <td>10</td>\n",
       "      <td>{'n_clusters': 99, 'n_init': 10}</td>\n",
       "      <td>-176227.048829</td>\n",
       "      <td>-176215.214301</td>\n",
       "      <td>-177048.642860</td>\n",
       "      <td>-176496.968663</td>\n",
       "      <td>390.122484</td>\n",
       "      <td>4</td>\n",
       "    </tr>\n",
       "    <tr>\n",
       "      <th>486</th>\n",
       "      <td>1.236349</td>\n",
       "      <td>0.152575</td>\n",
       "      <td>0.000000</td>\n",
       "      <td>0.000000</td>\n",
       "      <td>99</td>\n",
       "      <td>12</td>\n",
       "      <td>{'n_clusters': 99, 'n_init': 12}</td>\n",
       "      <td>-178006.024083</td>\n",
       "      <td>-175745.260238</td>\n",
       "      <td>-178992.746054</td>\n",
       "      <td>-177581.343458</td>\n",
       "      <td>1359.364130</td>\n",
       "      <td>9</td>\n",
       "    </tr>\n",
       "    <tr>\n",
       "      <th>487</th>\n",
       "      <td>1.312833</td>\n",
       "      <td>0.061384</td>\n",
       "      <td>0.001142</td>\n",
       "      <td>0.001615</td>\n",
       "      <td>99</td>\n",
       "      <td>14</td>\n",
       "      <td>{'n_clusters': 99, 'n_init': 14}</td>\n",
       "      <td>-180011.623171</td>\n",
       "      <td>-175759.098211</td>\n",
       "      <td>-176943.158833</td>\n",
       "      <td>-177571.293405</td>\n",
       "      <td>1792.002030</td>\n",
       "      <td>8</td>\n",
       "    </tr>\n",
       "    <tr>\n",
       "      <th>488</th>\n",
       "      <td>1.290635</td>\n",
       "      <td>0.010339</td>\n",
       "      <td>0.000000</td>\n",
       "      <td>0.000000</td>\n",
       "      <td>99</td>\n",
       "      <td>16</td>\n",
       "      <td>{'n_clusters': 99, 'n_init': 16}</td>\n",
       "      <td>-175147.615602</td>\n",
       "      <td>-173709.914062</td>\n",
       "      <td>-177993.799225</td>\n",
       "      <td>-175617.109630</td>\n",
       "      <td>1780.119192</td>\n",
       "      <td>2</td>\n",
       "    </tr>\n",
       "    <tr>\n",
       "      <th>489</th>\n",
       "      <td>1.307529</td>\n",
       "      <td>0.025289</td>\n",
       "      <td>0.002672</td>\n",
       "      <td>0.003778</td>\n",
       "      <td>99</td>\n",
       "      <td>18</td>\n",
       "      <td>{'n_clusters': 99, 'n_init': 18}</td>\n",
       "      <td>-175899.634989</td>\n",
       "      <td>-173921.672272</td>\n",
       "      <td>-176618.980331</td>\n",
       "      <td>-175480.095864</td>\n",
       "      <td>1140.431936</td>\n",
       "      <td>1</td>\n",
       "    </tr>\n",
       "  </tbody>\n",
       "</table>\n",
       "<p>490 rows × 13 columns</p>\n",
       "</div>"
      ],
      "text/plain": [
       "     mean_fit_time  std_fit_time  mean_score_time  std_score_time  \\\n",
       "0         0.356559      0.016050         0.000000        0.000000   \n",
       "1         0.361184      0.018612         0.000000        0.000000   \n",
       "2         0.371480      0.019883         0.002667        0.003771   \n",
       "3         0.445814      0.060449         0.000000        0.000000   \n",
       "4         0.405945      0.021559         0.000000        0.000000   \n",
       "..             ...           ...              ...             ...   \n",
       "485       1.005214      0.092913         0.002667        0.003771   \n",
       "486       1.236349      0.152575         0.000000        0.000000   \n",
       "487       1.312833      0.061384         0.001142        0.001615   \n",
       "488       1.290635      0.010339         0.000000        0.000000   \n",
       "489       1.307529      0.025289         0.002672        0.003778   \n",
       "\n",
       "    param_n_clusters param_n_init                            params  \\\n",
       "0                  2           10   {'n_clusters': 2, 'n_init': 10}   \n",
       "1                  2           12   {'n_clusters': 2, 'n_init': 12}   \n",
       "2                  2           14   {'n_clusters': 2, 'n_init': 14}   \n",
       "3                  2           16   {'n_clusters': 2, 'n_init': 16}   \n",
       "4                  2           18   {'n_clusters': 2, 'n_init': 18}   \n",
       "..               ...          ...                               ...   \n",
       "485               99           10  {'n_clusters': 99, 'n_init': 10}   \n",
       "486               99           12  {'n_clusters': 99, 'n_init': 12}   \n",
       "487               99           14  {'n_clusters': 99, 'n_init': 14}   \n",
       "488               99           16  {'n_clusters': 99, 'n_init': 16}   \n",
       "489               99           18  {'n_clusters': 99, 'n_init': 18}   \n",
       "\n",
       "     split0_test_score  split1_test_score  split2_test_score  mean_test_score  \\\n",
       "0       -480572.278791     -473756.970156     -481771.986561   -478700.411836   \n",
       "1       -480534.546585     -473756.970156     -481771.986561   -478687.834434   \n",
       "2       -480572.278791     -473756.970156     -481771.986561   -478700.411836   \n",
       "3       -480550.241248     -473756.970156     -481771.986561   -478693.065988   \n",
       "4       -480550.241248     -473756.970156     -481771.986561   -478693.065988   \n",
       "..                 ...                ...                ...              ...   \n",
       "485     -176227.048829     -176215.214301     -177048.642860   -176496.968663   \n",
       "486     -178006.024083     -175745.260238     -178992.746054   -177581.343458   \n",
       "487     -180011.623171     -175759.098211     -176943.158833   -177571.293405   \n",
       "488     -175147.615602     -173709.914062     -177993.799225   -175617.109630   \n",
       "489     -175899.634989     -173921.672272     -176618.980331   -175480.095864   \n",
       "\n",
       "     std_test_score  rank_test_score  \n",
       "0       3529.687089              489  \n",
       "1       3523.055617              486  \n",
       "2       3529.687089              489  \n",
       "3       3525.804585              487  \n",
       "4       3525.804585              487  \n",
       "..              ...              ...  \n",
       "485      390.122484                4  \n",
       "486     1359.364130                9  \n",
       "487     1792.002030                8  \n",
       "488     1780.119192                2  \n",
       "489     1140.431936                1  \n",
       "\n",
       "[490 rows x 13 columns]"
      ]
     },
     "execution_count": 25,
     "metadata": {},
     "output_type": "execute_result"
    }
   ],
   "source": [
    "import pandas as pd\n",
    "pd.DataFrame(kmeans_grid.cv_results_)"
   ]
  },
  {
   "cell_type": "code",
   "execution_count": 5,
   "metadata": {},
   "outputs": [],
   "source": [
    "import pandas as pd"
   ]
  },
  {
   "cell_type": "code",
   "execution_count": 14,
   "metadata": {},
   "outputs": [
    {
     "name": "stdout",
     "output_type": "stream",
     "text": [
      "[Errno 2] No such file or directory: './data/Cust_Segmentation-1.csv'\n"
     ]
    }
   ],
   "source": [
    "try:\n",
    "    path = \"./data/Cust_Segmentation-1.csv\"\n",
    "    df = pd.read_csv(path)\n",
    "    \n",
    "except Exception as e:\n",
    "    print(e)"
   ]
  },
  {
   "cell_type": "code",
   "execution_count": 15,
   "metadata": {},
   "outputs": [
    {
     "data": {
      "text/html": [
       "<div>\n",
       "<style scoped>\n",
       "    .dataframe tbody tr th:only-of-type {\n",
       "        vertical-align: middle;\n",
       "    }\n",
       "\n",
       "    .dataframe tbody tr th {\n",
       "        vertical-align: top;\n",
       "    }\n",
       "\n",
       "    .dataframe thead th {\n",
       "        text-align: right;\n",
       "    }\n",
       "</style>\n",
       "<table border=\"1\" class=\"dataframe\">\n",
       "  <thead>\n",
       "    <tr style=\"text-align: right;\">\n",
       "      <th></th>\n",
       "      <th>Customer Id</th>\n",
       "      <th>Age</th>\n",
       "      <th>Edu</th>\n",
       "      <th>Years Employed</th>\n",
       "      <th>Income</th>\n",
       "      <th>Card Debt</th>\n",
       "      <th>Other Debt</th>\n",
       "      <th>Defaulted</th>\n",
       "      <th>Address</th>\n",
       "      <th>DebtIncomeRatio</th>\n",
       "    </tr>\n",
       "  </thead>\n",
       "  <tbody>\n",
       "    <tr>\n",
       "      <th>0</th>\n",
       "      <td>1</td>\n",
       "      <td>41</td>\n",
       "      <td>2</td>\n",
       "      <td>6</td>\n",
       "      <td>19</td>\n",
       "      <td>0.124</td>\n",
       "      <td>1.073</td>\n",
       "      <td>0.0</td>\n",
       "      <td>NBA001</td>\n",
       "      <td>6.3</td>\n",
       "    </tr>\n",
       "    <tr>\n",
       "      <th>1</th>\n",
       "      <td>2</td>\n",
       "      <td>47</td>\n",
       "      <td>1</td>\n",
       "      <td>26</td>\n",
       "      <td>100</td>\n",
       "      <td>4.582</td>\n",
       "      <td>8.218</td>\n",
       "      <td>0.0</td>\n",
       "      <td>NBA021</td>\n",
       "      <td>12.8</td>\n",
       "    </tr>\n",
       "    <tr>\n",
       "      <th>2</th>\n",
       "      <td>3</td>\n",
       "      <td>33</td>\n",
       "      <td>2</td>\n",
       "      <td>10</td>\n",
       "      <td>57</td>\n",
       "      <td>6.111</td>\n",
       "      <td>5.802</td>\n",
       "      <td>1.0</td>\n",
       "      <td>NBA013</td>\n",
       "      <td>20.9</td>\n",
       "    </tr>\n",
       "    <tr>\n",
       "      <th>3</th>\n",
       "      <td>4</td>\n",
       "      <td>29</td>\n",
       "      <td>2</td>\n",
       "      <td>4</td>\n",
       "      <td>19</td>\n",
       "      <td>0.681</td>\n",
       "      <td>0.516</td>\n",
       "      <td>0.0</td>\n",
       "      <td>NBA009</td>\n",
       "      <td>6.3</td>\n",
       "    </tr>\n",
       "    <tr>\n",
       "      <th>4</th>\n",
       "      <td>5</td>\n",
       "      <td>47</td>\n",
       "      <td>1</td>\n",
       "      <td>31</td>\n",
       "      <td>253</td>\n",
       "      <td>9.308</td>\n",
       "      <td>8.908</td>\n",
       "      <td>0.0</td>\n",
       "      <td>NBA008</td>\n",
       "      <td>7.2</td>\n",
       "    </tr>\n",
       "  </tbody>\n",
       "</table>\n",
       "</div>"
      ],
      "text/plain": [
       "   Customer Id  Age  Edu  Years Employed  Income  Card Debt  Other Debt  \\\n",
       "0            1   41    2               6      19      0.124       1.073   \n",
       "1            2   47    1              26     100      4.582       8.218   \n",
       "2            3   33    2              10      57      6.111       5.802   \n",
       "3            4   29    2               4      19      0.681       0.516   \n",
       "4            5   47    1              31     253      9.308       8.908   \n",
       "\n",
       "   Defaulted Address  DebtIncomeRatio  \n",
       "0        0.0  NBA001              6.3  \n",
       "1        0.0  NBA021             12.8  \n",
       "2        1.0  NBA013             20.9  \n",
       "3        0.0  NBA009              6.3  \n",
       "4        0.0  NBA008              7.2  "
      ]
     },
     "execution_count": 15,
     "metadata": {},
     "output_type": "execute_result"
    }
   ],
   "source": [
    "df.head()"
   ]
  },
  {
   "cell_type": "code",
   "execution_count": 33,
   "metadata": {},
   "outputs": [
    {
     "name": "stdout",
     "output_type": "stream",
     "text": [
      "Reading dataframe...\n",
      "\n",
      "Error Mssg: [Errno 2] No such file or directory: 'file_path'\n"
     ]
    }
   ],
   "source": [
    "import sys\n",
    "try:\n",
    "    print(\"Reading dataframe...\")\n",
    "    cdf = pd.read_parquet(\"file_path\")\n",
    "    print(f\"The Dataframe has {df.shape[0]} rows and {df.shape[1]} columns\")\n",
    "    print(f\"Preprocessing of the data...\")\n",
    "   \n",
    "\n",
    "\n",
    "except Exception as e:\n",
    "    print()\n",
    "    print(f\"Error Mssg: {e}\")"
   ]
  },
  {
   "cell_type": "code",
   "execution_count": null,
   "metadata": {},
   "outputs": [],
   "source": []
  }
 ],
 "metadata": {
  "kernelspec": {
   "display_name": "Python 3.8.13 ('py38')",
   "language": "python",
   "name": "python3"
  },
  "language_info": {
   "codemirror_mode": {
    "name": "ipython",
    "version": 3
   },
   "file_extension": ".py",
   "mimetype": "text/x-python",
   "name": "python",
   "nbconvert_exporter": "python",
   "pygments_lexer": "ipython3",
   "version": "3.8.13 (default, Mar 28 2022, 06:59:08) [MSC v.1916 64 bit (AMD64)]"
  },
  "orig_nbformat": 4,
  "vscode": {
   "interpreter": {
    "hash": "2d630e0cc0c84cebedeee9ce2cc9e0c67fed820c0a3ba66cc141a6b3ba050296"
   }
  }
 },
 "nbformat": 4,
 "nbformat_minor": 2
}
