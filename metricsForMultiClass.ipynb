{
 "cells": [
  {
   "cell_type": "code",
   "execution_count": 1,
   "metadata": {},
   "outputs": [],
   "source": [
    "import pandas as pd\n",
    "import numpy as np\n",
    "from sklearn import metrics"
   ]
  },
  {
   "cell_type": "code",
   "execution_count": 20,
   "metadata": {},
   "outputs": [],
   "source": [
    "def true_positive(y_true, y_pred):\n",
    "    tp = 0\n",
    "    for yt, yp in zip(y_true, y_pred):\n",
    "        if yt == yp == 1:\n",
    "            tp +=1    \n",
    "    return tp\n",
    "\n",
    "\n",
    "def false_positive(y_true, y_pred):\n",
    "    fp = 0\n",
    "    for yt, yp in zip(y_true, y_pred):\n",
    "        if yt == 0 and yp == 1:\n",
    "            fp +=1    \n",
    "    return fp\n",
    "\n",
    "def true_negative(y_true, y_pred):\n",
    "    tn = 0\n",
    "    for yt, yp in zip(y_true, y_pred):\n",
    "        if yt == yp == 0:\n",
    "            tn +=1    \n",
    "    return tn\n",
    "\n",
    "\n",
    "def false_negative(y_true, y_pred):\n",
    "    fn = 0\n",
    "    for yt, yp in zip(y_true, y_pred):\n",
    "        if yt == 1 and yp == 0:\n",
    "            fn +=1    \n",
    "    return fn"
   ]
  },
  {
   "cell_type": "code",
   "execution_count": 28,
   "metadata": {},
   "outputs": [],
   "source": [
    "def precision(tp, fp):\n",
    "    return tp/(tp+fp)\n",
    "\n",
    "def recall(tp, fn):\n",
    "    return tp/(tp+fn)\n",
    "\n",
    "def f1_score(p, r):\n",
    "    return 2*p*r/(p+r)"
   ]
  },
  {
   "attachments": {},
   "cell_type": "markdown",
   "metadata": {},
   "source": [
    "## 2. Implementation of Precision for Multi-Class"
   ]
  },
  {
   "cell_type": "code",
   "execution_count": 42,
   "metadata": {},
   "outputs": [],
   "source": [
    "def macro_recall(y_true, y_pred):\n",
    "    \n",
    "    num_classes = len(np.unique(y_true))\n",
    "    precision = 0\n",
    "    \n",
    "    for class_ in range(num_classes):\n",
    "        tempClass = [1 if label == class_ else 0 for label in y_true]\n",
    "        tempPred =  [1 if label == class_ else 0 for label in y_pred]\n",
    "        \n",
    "        tp = true_positive(tempClass, tempPred)\n",
    "        fn = false_positive(tempClass, tempPred)\n",
    "        \n",
    "        temp_precision = tp/(tp+fp)\n",
    "        \n",
    "        precision += temp_precision\n",
    "    \n",
    "    precision /= num_classes    \n",
    "    return precision"
   ]
  },
  {
   "cell_type": "code",
   "execution_count": null,
   "metadata": {},
   "outputs": [],
   "source": []
  },
  {
   "attachments": {},
   "cell_type": "markdown",
   "metadata": {},
   "source": [
    "## 3. Implementation of Recall for Multi-Class"
   ]
  },
  {
   "cell_type": "code",
   "execution_count": 48,
   "metadata": {},
   "outputs": [],
   "source": [
    "y_true = [0, 1, 2, 0, 1, 2, 0, 2, 2]\n",
    "y_pred = [0, 2, 1, 0, 2, 1, 0, 0, 2]"
   ]
  },
  {
   "attachments": {},
   "cell_type": "markdown",
   "metadata": {},
   "source": [
    "**Macro averaged recall: calculate recall for all classes individually and then average them**"
   ]
  },
  {
   "cell_type": "code",
   "execution_count": 49,
   "metadata": {},
   "outputs": [],
   "source": [
    "def macro_recall(y_true, y_pred):\n",
    "    \n",
    "    num_classes = len(np.unique(y_true))\n",
    "    recall = 0\n",
    "    \n",
    "    for class_ in range(num_classes):\n",
    "        tempClass = [1 if label == class_ else 0 for label in y_true]\n",
    "        tempPred =  [1 if label == class_ else 0 for label in y_pred]\n",
    "        \n",
    "        tp = true_positive(tempClass, tempPred)\n",
    "        fn = false_negative(tempClass, tempPred)\n",
    "        \n",
    "        temp_recall = tp/(tp+fn)\n",
    "        \n",
    "        recall += temp_recall\n",
    "    \n",
    "    recall /= num_classes    \n",
    "    return recall\n",
    "        "
   ]
  },
  {
   "cell_type": "code",
   "execution_count": 76,
   "metadata": {},
   "outputs": [
    {
     "name": "stdout",
     "output_type": "stream",
     "text": [
      "Macro Recall using sklearn method: 0.41667\n",
      "Macro Recall using self-defined method: 0.41667\n"
     ]
    }
   ],
   "source": [
    "print(f\"Macro Recall using sklearn method: {metrics.recall_score(y_true, y_pred, average='macro'):.5f}\")\n",
    "print(f\"Macro Recall using self-defined method: {macro_recall(y_true, y_pred):.5f}\")"
   ]
  },
  {
   "cell_type": "code",
   "execution_count": 55,
   "metadata": {},
   "outputs": [],
   "source": [
    "def micro_recall(y_true, y_pred):\n",
    "    \n",
    "    num_classes = len(np.unique(y_true))\n",
    "    recall = 0\n",
    "    \n",
    "    tp = 0\n",
    "    fn = 0\n",
    "    for class_ in range(num_classes):\n",
    "        tempClass = [1 if label == class_ else 0 for label in y_true]\n",
    "        tempPred =  [1 if label == class_ else 0 for label in y_pred]\n",
    "        \n",
    "        tp += true_positive(tempClass, tempPred)\n",
    "        fn += false_negative(tempClass, tempPred)\n",
    "        \n",
    "    recall = tp/(tp+fn)    \n",
    "    return recall"
   ]
  },
  {
   "cell_type": "code",
   "execution_count": 78,
   "metadata": {},
   "outputs": [
    {
     "name": "stdout",
     "output_type": "stream",
     "text": [
      "Micro Recall using sklearn method: 0.44444\n",
      "Micro Recall using self-defined method: 0.44444\n"
     ]
    }
   ],
   "source": [
    "print(f\"Micro Recall using sklearn method: {metrics.recall_score(y_true, y_pred, average='micro'):.5f}\")\n",
    "print(f\"Micro Recall using self-defined method: {micro_recall(y_true, y_pred):.5f}\")"
   ]
  },
  {
   "cell_type": "code",
   "execution_count": 68,
   "metadata": {},
   "outputs": [],
   "source": [
    "from collections import Counter\n",
    "\n",
    "def weighted_recall(y_true, y_pred):\n",
    "    \n",
    "    num_classes = len(np.unique(y_true))\n",
    "    class_value_counts = Counter(y_true)\n",
    "    recall = 0\n",
    "    \n",
    "    for class_ in range(num_classes):\n",
    "        tempClass = [1 if label == class_ else 0 for label in y_true]\n",
    "        tempPred =  [1 if label == class_ else 0 for label in y_pred]\n",
    "        \n",
    "        tp = true_positive(tempClass, tempPred)\n",
    "        fn = false_negative(tempClass, tempPred)\n",
    "        \n",
    "        temp_recall = tp/(tp+fn)\n",
    "        \n",
    "        weighted_recall = class_value_counts[class_] * temp_recall\n",
    "        \n",
    "        recall += weighted_recall\n",
    "    \n",
    "    overall_recall  = recall / len(y_true)   \n",
    "    return overall_recall"
   ]
  },
  {
   "cell_type": "code",
   "execution_count": 73,
   "metadata": {},
   "outputs": [
    {
     "name": "stdout",
     "output_type": "stream",
     "text": [
      "Weighted Recall using sklearn method: 0.4444\n",
      "Weighted Recall using self-defined method: 0.4444\n"
     ]
    }
   ],
   "source": [
    "print(f\"Weighted Recall using sklearn method: {metrics.recall_score(y_true, y_pred, average='weighted'):.4f}\")\n",
    "print(f\"Weighted Recall using self-defined method: {weighted_recall(y_true, y_pred):.4f}\")"
   ]
  },
  {
   "cell_type": "code",
   "execution_count": null,
   "metadata": {},
   "outputs": [],
   "source": []
  },
  {
   "cell_type": "code",
   "execution_count": null,
   "metadata": {},
   "outputs": [],
   "source": []
  },
  {
   "cell_type": "code",
   "execution_count": null,
   "metadata": {},
   "outputs": [],
   "source": []
  }
 ],
 "metadata": {
  "kernelspec": {
   "display_name": "base",
   "language": "python",
   "name": "python3"
  },
  "language_info": {
   "codemirror_mode": {
    "name": "ipython",
    "version": 3
   },
   "file_extension": ".py",
   "mimetype": "text/x-python",
   "name": "python",
   "nbconvert_exporter": "python",
   "pygments_lexer": "ipython3",
   "version": "3.9.12"
  },
  "orig_nbformat": 4,
  "vscode": {
   "interpreter": {
    "hash": "56b3ff06c847d0c4f7be3763dc97c6491a535e13ce8210240ca7cce9ff5cd5ae"
   }
  }
 },
 "nbformat": 4,
 "nbformat_minor": 2
}
