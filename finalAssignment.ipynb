{
 "cells": [
  {
   "cell_type": "code",
   "execution_count": 1,
   "metadata": {},
   "outputs": [],
   "source": [
    "import numpy as np\n",
    "import matplotlib.pyplot as plt\n",
    "import pandas as pd\n",
    "import seaborn as sns\n",
    "import cv2"
   ]
  },
  {
   "cell_type": "markdown",
   "metadata": {},
   "source": [
    "# Question1"
   ]
  },
  {
   "cell_type": "code",
   "execution_count": 3,
   "metadata": {},
   "outputs": [
    {
     "data": {
      "text/html": [
       "<div>\n",
       "<style scoped>\n",
       "    .dataframe tbody tr th:only-of-type {\n",
       "        vertical-align: middle;\n",
       "    }\n",
       "\n",
       "    .dataframe tbody tr th {\n",
       "        vertical-align: top;\n",
       "    }\n",
       "\n",
       "    .dataframe thead th {\n",
       "        text-align: right;\n",
       "    }\n",
       "</style>\n",
       "<table border=\"1\" class=\"dataframe\">\n",
       "  <thead>\n",
       "    <tr style=\"text-align: right;\">\n",
       "      <th></th>\n",
       "      <th>Very interested</th>\n",
       "      <th>Somewhat interested</th>\n",
       "      <th>Not interested</th>\n",
       "    </tr>\n",
       "  </thead>\n",
       "  <tbody>\n",
       "    <tr>\n",
       "      <th>Big Data (Spark / Hadoop)</th>\n",
       "      <td>1332</td>\n",
       "      <td>729</td>\n",
       "      <td>127</td>\n",
       "    </tr>\n",
       "    <tr>\n",
       "      <th>Data Analysis / Statistics</th>\n",
       "      <td>1688</td>\n",
       "      <td>444</td>\n",
       "      <td>60</td>\n",
       "    </tr>\n",
       "    <tr>\n",
       "      <th>Data Journalism</th>\n",
       "      <td>429</td>\n",
       "      <td>1081</td>\n",
       "      <td>610</td>\n",
       "    </tr>\n",
       "    <tr>\n",
       "      <th>Data Visualization</th>\n",
       "      <td>1340</td>\n",
       "      <td>734</td>\n",
       "      <td>102</td>\n",
       "    </tr>\n",
       "    <tr>\n",
       "      <th>Deep Learning</th>\n",
       "      <td>1263</td>\n",
       "      <td>770</td>\n",
       "      <td>136</td>\n",
       "    </tr>\n",
       "  </tbody>\n",
       "</table>\n",
       "</div>"
      ],
      "text/plain": [
       "                            Very interested  Somewhat interested  \\\n",
       "Big Data (Spark / Hadoop)              1332                  729   \n",
       "Data Analysis / Statistics             1688                  444   \n",
       "Data Journalism                         429                 1081   \n",
       "Data Visualization                     1340                  734   \n",
       "Deep Learning                          1263                  770   \n",
       "\n",
       "                            Not interested  \n",
       "Big Data (Spark / Hadoop)              127  \n",
       "Data Analysis / Statistics              60  \n",
       "Data Journalism                        610  \n",
       "Data Visualization                     102  \n",
       "Deep Learning                          136  "
      ]
     },
     "execution_count": 3,
     "metadata": {},
     "output_type": "execute_result"
    }
   ],
   "source": [
    "df = pd.read_csv('Topic_Survey_Assignment.csv',index_col=0)\n",
    "df.head()"
   ]
  },
  {
   "cell_type": "markdown",
   "metadata": {},
   "source": [
    "# Question2"
   ]
  },
  {
   "cell_type": "code",
   "execution_count": 4,
   "metadata": {},
   "outputs": [
    {
     "data": {
      "text/html": [
       "<div>\n",
       "<style scoped>\n",
       "    .dataframe tbody tr th:only-of-type {\n",
       "        vertical-align: middle;\n",
       "    }\n",
       "\n",
       "    .dataframe tbody tr th {\n",
       "        vertical-align: top;\n",
       "    }\n",
       "\n",
       "    .dataframe thead th {\n",
       "        text-align: right;\n",
       "    }\n",
       "</style>\n",
       "<table border=\"1\" class=\"dataframe\">\n",
       "  <thead>\n",
       "    <tr style=\"text-align: right;\">\n",
       "      <th></th>\n",
       "      <th>Very interested</th>\n",
       "      <th>Somewhat interested</th>\n",
       "      <th>Not interested</th>\n",
       "    </tr>\n",
       "  </thead>\n",
       "  <tbody>\n",
       "    <tr>\n",
       "      <th>Big Data (Spark / Hadoop)</th>\n",
       "      <td>1332</td>\n",
       "      <td>729</td>\n",
       "      <td>127</td>\n",
       "    </tr>\n",
       "    <tr>\n",
       "      <th>Data Analysis / Statistics</th>\n",
       "      <td>1688</td>\n",
       "      <td>444</td>\n",
       "      <td>60</td>\n",
       "    </tr>\n",
       "    <tr>\n",
       "      <th>Data Journalism</th>\n",
       "      <td>429</td>\n",
       "      <td>1081</td>\n",
       "      <td>610</td>\n",
       "    </tr>\n",
       "    <tr>\n",
       "      <th>Data Visualization</th>\n",
       "      <td>1340</td>\n",
       "      <td>734</td>\n",
       "      <td>102</td>\n",
       "    </tr>\n",
       "    <tr>\n",
       "      <th>Deep Learning</th>\n",
       "      <td>1263</td>\n",
       "      <td>770</td>\n",
       "      <td>136</td>\n",
       "    </tr>\n",
       "  </tbody>\n",
       "</table>\n",
       "</div>"
      ],
      "text/plain": [
       "                            Very interested  Somewhat interested  \\\n",
       "Big Data (Spark / Hadoop)              1332                  729   \n",
       "Data Analysis / Statistics             1688                  444   \n",
       "Data Journalism                         429                 1081   \n",
       "Data Visualization                     1340                  734   \n",
       "Deep Learning                          1263                  770   \n",
       "\n",
       "                            Not interested  \n",
       "Big Data (Spark / Hadoop)              127  \n",
       "Data Analysis / Statistics              60  \n",
       "Data Journalism                        610  \n",
       "Data Visualization                     102  \n",
       "Deep Learning                          136  "
      ]
     },
     "execution_count": 4,
     "metadata": {},
     "output_type": "execute_result"
    }
   ],
   "source": [
    "df = pd.read_csv('Topic_Survey_Assignment.csv',index_col=0)\n",
    "df.head()"
   ]
  },
  {
   "cell_type": "code",
   "execution_count": 5,
   "metadata": {},
   "outputs": [],
   "source": [
    "df.sort_values(by=['Very interested'],ascending=False,inplace=True)"
   ]
  },
  {
   "cell_type": "code",
   "execution_count": 6,
   "metadata": {},
   "outputs": [
    {
     "data": {
      "text/html": [
       "<div>\n",
       "<style scoped>\n",
       "    .dataframe tbody tr th:only-of-type {\n",
       "        vertical-align: middle;\n",
       "    }\n",
       "\n",
       "    .dataframe tbody tr th {\n",
       "        vertical-align: top;\n",
       "    }\n",
       "\n",
       "    .dataframe thead th {\n",
       "        text-align: right;\n",
       "    }\n",
       "</style>\n",
       "<table border=\"1\" class=\"dataframe\">\n",
       "  <thead>\n",
       "    <tr style=\"text-align: right;\">\n",
       "      <th></th>\n",
       "      <th>Very interested</th>\n",
       "      <th>Somewhat interested</th>\n",
       "      <th>Not interested</th>\n",
       "    </tr>\n",
       "  </thead>\n",
       "  <tbody>\n",
       "    <tr>\n",
       "      <th>Data Analysis / Statistics</th>\n",
       "      <td>72.70</td>\n",
       "      <td>19.12</td>\n",
       "      <td>2.58</td>\n",
       "    </tr>\n",
       "    <tr>\n",
       "      <th>Machine Learning</th>\n",
       "      <td>70.16</td>\n",
       "      <td>20.54</td>\n",
       "      <td>3.19</td>\n",
       "    </tr>\n",
       "    <tr>\n",
       "      <th>Data Visualization</th>\n",
       "      <td>57.71</td>\n",
       "      <td>31.61</td>\n",
       "      <td>4.39</td>\n",
       "    </tr>\n",
       "    <tr>\n",
       "      <th>Big Data (Spark / Hadoop)</th>\n",
       "      <td>57.36</td>\n",
       "      <td>31.40</td>\n",
       "      <td>5.47</td>\n",
       "    </tr>\n",
       "    <tr>\n",
       "      <th>Deep Learning</th>\n",
       "      <td>54.39</td>\n",
       "      <td>33.16</td>\n",
       "      <td>5.86</td>\n",
       "    </tr>\n",
       "  </tbody>\n",
       "</table>\n",
       "</div>"
      ],
      "text/plain": [
       "                            Very interested  Somewhat interested  \\\n",
       "Data Analysis / Statistics            72.70                19.12   \n",
       "Machine Learning                      70.16                20.54   \n",
       "Data Visualization                    57.71                31.61   \n",
       "Big Data (Spark / Hadoop)             57.36                31.40   \n",
       "Deep Learning                         54.39                33.16   \n",
       "\n",
       "                            Not interested  \n",
       "Data Analysis / Statistics            2.58  \n",
       "Machine Learning                      3.19  \n",
       "Data Visualization                    4.39  \n",
       "Big Data (Spark / Hadoop)             5.47  \n",
       "Deep Learning                         5.86  "
      ]
     },
     "execution_count": 6,
     "metadata": {},
     "output_type": "execute_result"
    }
   ],
   "source": [
    "cdf = df.div(2322).multiply(100).round(2)\n",
    "cdf.head()"
   ]
  },
  {
   "cell_type": "code",
   "execution_count": 50,
   "metadata": {},
   "outputs": [
    {
     "data": {
      "text/plain": [
       "[]"
      ]
     },
     "execution_count": 50,
     "metadata": {},
     "output_type": "execute_result"
    },
    {
     "data": {
      "image/png": "[encoded data removed]",
      "text/plain": [
       "<Figure size 1440x576 with 1 Axes>"
      ]
     },
     "metadata": {
      "needs_background": "light"
     },
     "output_type": "display_data"
    }
   ],
   "source": [
    "ax = cdf.plot(kind='bar', stacked=False, figsize=(20, 8), width=0.8, color=['#5cb85c','#5bc0de','#d9534f'], fontsize=14,)\n",
    "\n",
    "ax.set_title(\"Percentage of Respondents' Interest in Data Science Areas\",{'fontsize':16})\n",
    "\n",
    "ax.legend(fontsize=14)\n",
    "\n",
    "#Add this loop to add the annotations\n",
    "for p in ax.patches:\n",
    "    width, height = p.get_width(), p.get_height()\n",
    "    x, y = p.get_xy() \n",
    "    ax.annotate(f'{height}', (x+0.06, y + height + 0.4))\n",
    "    \n",
    "ax.spines['right'].set_visible(False)\n",
    "ax.spines['left'].set_visible(False)\n",
    "ax.spines['top'].set_visible(False)\n",
    "# ax.set_xticks([])\n",
    "ax.set_yticks([])"
   ]
  },
  {
   "cell_type": "code",
   "execution_count": null,
   "metadata": {},
   "outputs": [],
   "source": []
  },
  {
   "cell_type": "code",
   "execution_count": null,
   "metadata": {},
   "outputs": [],
   "source": []
  },
  {
   "cell_type": "code",
   "execution_count": null,
   "metadata": {},
   "outputs": [],
   "source": []
  },
  {
   "cell_type": "code",
   "execution_count": null,
   "metadata": {},
   "outputs": [],
   "source": []
  }
 ],
 "metadata": {
  "kernelspec": {
   "display_name": "Python 3",
   "language": "python",
   "name": "python3"
  },
  "language_info": {
   "codemirror_mode": {
    "name": "ipython",
    "version": 3
   },
   "file_extension": ".py",
   "mimetype": "text/x-python",
   "name": "python",
   "nbconvert_exporter": "python",
   "pygments_lexer": "ipython3",
   "version": "3.8.2"
  }
 },
 "nbformat": 4,
 "nbformat_minor": 2
}
